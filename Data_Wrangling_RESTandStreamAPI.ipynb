{
 "cells": [
  {
   "cell_type": "markdown",
   "metadata": {},
   "source": [
    "# <center>Data Wrangling: REST and Streaming API - Stacey Sandy</center>\n",
    "\n",
    "This week's assignment you will be working with National Oceanic and Atmomspheric Administration (NOAAs) weather API. This API will allow you to retrieve a variety of data from a specific weather station(s), of your choice.\n",
    "\n",
    "API Documentation: https://www.ncdc.noaa.gov/cdo-web/webservices/v2#gettingStarted"
   ]
  },
  {
   "cell_type": "markdown",
   "metadata": {},
   "source": [
    "As the API documentation page states, you will need to register for your own credentials. Following the instructions at https://www.ncdc.noaa.gov/cdo-web/token to register.\n",
    "\n",
    "<div class=\"alert alert-block alert-danger\">\n",
    "<b>Important::</b> You can remove the following cell and use the commented out cell just below to load your NOAA credentials. The auth2.csv will not be provided to you. Please notice that the individual credential fields are stored as strings.\n",
    "</div>"
   ]
  },
  {
   "cell_type": "code",
   "execution_count": 1,
   "metadata": {},
   "outputs": [],
   "source": [
    "### Remove or comment out this cell ###THIS IS AN EXAMPLE!\n",
    "import pandas as pd\n",
    "\n",
    "# loading my specific credentials\n",
    "data = pd.read_csv('auth2.csv',header=0)\n",
    "\n",
    "# setting up some variables for Twitter. \n",
    "my_token = data['token'][0]"
   ]
  },
  {
   "cell_type": "code",
   "execution_count": 2,
   "metadata": {},
   "outputs": [
    {
     "data": {
      "text/plain": [
       "'iPwSshpjoAHyXGpseDijEqmGOZGLOJBO'"
      ]
     },
     "execution_count": 2,
     "metadata": {},
     "output_type": "execute_result"
    }
   ],
   "source": [
    "#THIS IS AN EXAMPLE!!!\n",
    "my_token"
   ]
  },
  {
   "cell_type": "code",
   "execution_count": 1,
   "metadata": {},
   "outputs": [],
   "source": [
    "#Use your credentials from NOAA\n",
    "#These are my credentials for NOAA API. \n",
    "\n",
    "my_token = 'enter_API_code_here'"
   ]
  },
  {
   "cell_type": "markdown",
   "metadata": {},
   "source": [
    "Now we need to determine a weather station that we would like to retrieve our data for. Use the following link to get the id for a NOAA weather station. https://www.ncdc.noaa.gov/cdo-web/datatools/findstation\n",
    "\n",
    "Fill out all field based on your preferences. I used:\n",
    "   * Location: CO\n",
    "   * Dataset: Daily Summaries\n",
    "   * Data Range: 2019-11-01 to 20019-11-30\n",
    "   * Data Category: Air Temperature\n"
   ]
  },
  {
   "cell_type": "markdown",
   "metadata": {},
   "source": [
    "<img align=\"left\" style=\"padding-right:10px;\" src=\"figures_7/NOAA_find_station_query.png\" >"
   ]
  },
  {
   "cell_type": "markdown",
   "metadata": {},
   "source": [
    "#### Click on 'Full Details' to see all the information\n",
    "<img align=\"left\" style=\"padding-right:10px;\" src=\"figures_7/NOAA_find_station_result.png\" ><br>"
   ]
  },
  {
   "cell_type": "markdown",
   "metadata": {},
   "source": [
    "From the Find A Station results, we will need to capture the following details:\n",
    "   * Capture the values within the 'Network' and 'Id' fields (second cell from top, split on ':')"
   ]
  },
  {
   "cell_type": "code",
   "execution_count": 2,
   "metadata": {},
   "outputs": [
    {
     "name": "stdout",
     "output_type": "stream",
     "text": [
      "GHCND:USW00023129\n"
     ]
    }
   ],
   "source": [
    "# variables based on my station search\n",
    "network = 'GHCND'\n",
    "ID = 'USW00023129'\n",
    "\n",
    "# station_id = network:ID\n",
    "station_id = network + ':' + ID\n",
    "print(station_id)"
   ]
  },
  {
   "cell_type": "markdown",
   "metadata": {},
   "source": [
    "### What type of data are we looking for?\n",
    "At this point we need to determine what type of data we want to retrieve. We can actually use the NOAAs API to help determine what is available for this station.\n",
    "\n",
    "One of the documentation pages https://www.ncdc.noaa.gov/cdo-web/webservices/v2#dataTypes shows us how to query for the available datatypes for the station we have chosen above.\n",
    "\n",
    "As we saw in the FTE, we can build a dictionary of parameters to be used in our request."
   ]
  },
  {
   "cell_type": "code",
   "execution_count": 3,
   "metadata": {},
   "outputs": [],
   "source": [
    "import requests\n",
    "import json\n",
    "\n",
    "# building the parameter dictionary\n",
    "# 'limit = 1000' --> What does this do? Look at the NOAA API documentation\n",
    "data = {}\n",
    "data = {'limit':'1000', 'datasetid': network, 'station_id': station_id}\n",
    "\n",
    "# calling NOAA API to get the available datatypes for this specific station\n",
    "r = requests.get('https://www.ncdc.noaa.gov/cdo-web/api/v2/datatypes',params = data, headers = {'token':my_token})"
   ]
  },
  {
   "cell_type": "markdown",
   "metadata": {},
   "source": [
    "Now we need to convert the JSON output from the request to something more readable"
   ]
  },
  {
   "cell_type": "code",
   "execution_count": 4,
   "metadata": {},
   "outputs": [
    {
     "data": {
      "text/plain": [
       "dict_keys(['metadata', 'results'])"
      ]
     },
     "execution_count": 4,
     "metadata": {},
     "output_type": "execute_result"
    }
   ],
   "source": [
    "# JSON to dictionary\n",
    "datatypes_dict = json.loads(r.text)\n",
    "\n",
    "# need the keys from this dictionary\n",
    "datatypes_dict.keys()\n"
   ]
  },
  {
   "cell_type": "markdown",
   "metadata": {},
   "source": [
    "I'm going to guess that the information we are after is stored in the results key.  Let's look at the first 5 and see if we might be right"
   ]
  },
  {
   "cell_type": "code",
   "execution_count": 5,
   "metadata": {},
   "outputs": [
    {
     "data": {
      "text/plain": [
       "[{'mindate': '1994-03-19',\n",
       "  'maxdate': '1996-05-28',\n",
       "  'name': 'Average cloudiness midnight to midnight from 30-second ceilometer data',\n",
       "  'datacoverage': 1,\n",
       "  'id': 'ACMC'},\n",
       " {'mindate': '1965-01-01',\n",
       "  'maxdate': '2005-12-31',\n",
       "  'name': 'Average cloudiness midnight to midnight from manual observations',\n",
       "  'datacoverage': 1,\n",
       "  'id': 'ACMH'},\n",
       " {'mindate': '1994-02-01',\n",
       "  'maxdate': '1996-05-28',\n",
       "  'name': 'Average cloudiness sunrise to sunset from 30-second ceilometer data',\n",
       "  'datacoverage': 1,\n",
       "  'id': 'ACSC'},\n",
       " {'mindate': '1965-01-01',\n",
       "  'maxdate': '2005-12-31',\n",
       "  'name': 'Average cloudiness sunrise to sunset from manual observations',\n",
       "  'datacoverage': 1,\n",
       "  'id': 'ACSH'},\n",
       " {'mindate': '1982-01-01',\n",
       "  'maxdate': '2019-12-24',\n",
       "  'name': 'Average wind speed',\n",
       "  'datacoverage': 1,\n",
       "  'id': 'AWND'},\n",
       " {'mindate': '1948-08-02',\n",
       "  'maxdate': '2012-07-23',\n",
       "  'name': 'Number of days included in the multiday evaporation total (MDEV)',\n",
       "  'datacoverage': 1,\n",
       "  'id': 'DAEV'},\n",
       " {'mindate': '1832-05-11',\n",
       "  'maxdate': '2019-12-25',\n",
       "  'name': 'Number of days included in the multiday precipitation total (MDPR)',\n",
       "  'datacoverage': 1,\n",
       "  'id': 'DAPR'},\n",
       " {'mindate': '1883-01-10',\n",
       "  'maxdate': '2019-01-14',\n",
       "  'name': 'Number of days included in the multiday snow fall total (MDSF) ',\n",
       "  'datacoverage': 1,\n",
       "  'id': 'DASF'},\n",
       " {'mindate': '1863-05-04',\n",
       "  'maxdate': '2019-11-05',\n",
       "  'name': 'Number of days included in the multiday minimum temperature (MDTN)',\n",
       "  'datacoverage': 1,\n",
       "  'id': 'DATN'},\n",
       " {'mindate': '1863-05-04',\n",
       "  'maxdate': '2019-11-04',\n",
       "  'name': 'Number of days included in the multiday maximum temperature (MDTX)',\n",
       "  'datacoverage': 1,\n",
       "  'id': 'DATX'}]"
      ]
     },
     "execution_count": 5,
     "metadata": {},
     "output_type": "execute_result"
    }
   ],
   "source": [
    "datatypes_dict['results'][:10]"
   ]
  },
  {
   "cell_type": "markdown",
   "metadata": {},
   "source": [
    "So, the results appear to be a list of dictionaries. \n",
    "\n",
    "<div class=\"alert alert-block alert-warning\">\n",
    "<b>Note:</b>  I'll leave parsing through all of these as an exercise for you to do.  I already did this seperately and determined I will be using the datatype set of 'TAVG' which is average temp and is available for the year of 2018.\n",
    "</div>"
   ]
  },
  {
   "cell_type": "code",
   "execution_count": 6,
   "metadata": {},
   "outputs": [
    {
     "data": {
      "text/plain": [
       "{'limit': '1000',\n",
       " 'datasetid': 'GHCND',\n",
       " 'stationid': 'GHCND:USW00023129',\n",
       " 'datatypeid': 'TAVG',\n",
       " 'startdate': '2018-01-01',\n",
       " 'enddate': '2018-12-31',\n",
       " 'units': 'standard'}"
      ]
     },
     "execution_count": 6,
     "metadata": {},
     "output_type": "execute_result"
    }
   ],
   "source": [
    "data = {}\n",
    "data = {'limit':'1000', 'datasetid': network, 'stationid': station_id}\n",
    "\n",
    "\n",
    "# append additional parameters to data dictionary\n",
    "data.update({'datatypeid': 'TAVG'})\n",
    "data.update({'startdate': '2018-01-01'})\n",
    "data.update({'enddate': '2018-12-31'})\n",
    "data.update({'units':'standard'})\n",
    "data"
   ]
  },
  {
   "cell_type": "code",
   "execution_count": 7,
   "metadata": {},
   "outputs": [],
   "source": [
    "# make the request to get our year of data\n",
    "r = requests.get('https://www.ncdc.noaa.gov/cdo-web/api/v2/data',params = data, headers = {'token':my_token})\n",
    "\n",
    "#load the api response as a json\n",
    "avg_temp_2018_dict = json.loads(r.text)"
   ]
  },
  {
   "cell_type": "code",
   "execution_count": 8,
   "metadata": {},
   "outputs": [
    {
     "data": {
      "text/plain": [
       "[{'date': '2018-01-01T00:00:00',\n",
       "  'datatype': 'TAVG',\n",
       "  'station': 'GHCND:USW00023129',\n",
       "  'attributes': 'H,,S,',\n",
       "  'value': 56.0},\n",
       " {'date': '2018-01-02T00:00:00',\n",
       "  'datatype': 'TAVG',\n",
       "  'station': 'GHCND:USW00023129',\n",
       "  'attributes': 'H,,S,',\n",
       "  'value': 60.0},\n",
       " {'date': '2018-01-03T00:00:00',\n",
       "  'datatype': 'TAVG',\n",
       "  'station': 'GHCND:USW00023129',\n",
       "  'attributes': 'H,,S,',\n",
       "  'value': 61.0},\n",
       " {'date': '2018-01-04T00:00:00',\n",
       "  'datatype': 'TAVG',\n",
       "  'station': 'GHCND:USW00023129',\n",
       "  'attributes': 'H,,S,',\n",
       "  'value': 62.0},\n",
       " {'date': '2018-01-05T00:00:00',\n",
       "  'datatype': 'TAVG',\n",
       "  'station': 'GHCND:USW00023129',\n",
       "  'attributes': 'H,,S,',\n",
       "  'value': 63.0},\n",
       " {'date': '2018-01-06T00:00:00',\n",
       "  'datatype': 'TAVG',\n",
       "  'station': 'GHCND:USW00023129',\n",
       "  'attributes': 'H,,S,',\n",
       "  'value': 62.0},\n",
       " {'date': '2018-01-07T00:00:00',\n",
       "  'datatype': 'TAVG',\n",
       "  'station': 'GHCND:USW00023129',\n",
       "  'attributes': 'H,,S,',\n",
       "  'value': 63.0},\n",
       " {'date': '2018-01-08T00:00:00',\n",
       "  'datatype': 'TAVG',\n",
       "  'station': 'GHCND:USW00023129',\n",
       "  'attributes': 'H,,S,',\n",
       "  'value': 64.0},\n",
       " {'date': '2018-01-09T00:00:00',\n",
       "  'datatype': 'TAVG',\n",
       "  'station': 'GHCND:USW00023129',\n",
       "  'attributes': 'H,,S,',\n",
       "  'value': 60.0},\n",
       " {'date': '2018-01-10T00:00:00',\n",
       "  'datatype': 'TAVG',\n",
       "  'station': 'GHCND:USW00023129',\n",
       "  'attributes': 'H,,S,',\n",
       "  'value': 56.0}]"
      ]
     },
     "execution_count": 8,
     "metadata": {},
     "output_type": "execute_result"
    }
   ],
   "source": [
    "# look at the first record of our data\n",
    "avg_temp_2018_dict['results'][:10]"
   ]
  },
  {
   "cell_type": "markdown",
   "metadata": {},
   "source": [
    "Looks like we have daily data and the 'value' key appears to contain a number that seems reasonable for temperature.\n",
    "\n",
    "Let's just verify that we got a record for everyday of 2018"
   ]
  },
  {
   "cell_type": "code",
   "execution_count": 9,
   "metadata": {},
   "outputs": [
    {
     "data": {
      "text/plain": [
       "365"
      ]
     },
     "execution_count": 9,
     "metadata": {},
     "output_type": "execute_result"
    }
   ],
   "source": [
    "# there were 365 days in 2018\n",
    "len(avg_temp_2018_dict['results'])"
   ]
  },
  {
   "cell_type": "code",
   "execution_count": 10,
   "metadata": {},
   "outputs": [
    {
     "name": "stdout",
     "output_type": "stream",
     "text": [
      "{'date': '2018-01-01T00:00:00', 'datatype': 'TAVG', 'station': 'GHCND:USW00023129', 'attributes': 'H,,S,', 'value': 56.0}\n",
      "{'date': '2018-12-31T00:00:00', 'datatype': 'TAVG', 'station': 'GHCND:USW00023129', 'attributes': 'H,,S,', 'value': 55.0}\n"
     ]
    }
   ],
   "source": [
    "# look at the first and last day\n",
    "print(avg_temp_2018_dict['results'][0])\n",
    "print(avg_temp_2018_dict['results'][364])"
   ]
  },
  {
   "cell_type": "markdown",
   "metadata": {},
   "source": [
    "### Requirements for the assignment\n",
    "Using the NOAA API, retrieve data for a weather station of your choice.  Based on the station you pick, \n",
    "   * Determine an appropriate dataset \n",
    "   * Determine an appropriatedataset type\n",
    "   * Pull at least 3 years worth of data.<br>\n",
    "     Note: if you pick an annual dataset, you will need to pull at least 25 years worth of data.\n",
    "   * Organize your results into a meaningful representation\n",
    "   * Store your result in one of the followinf formats:\n",
    "      - csv file\n",
    "      - json file\n",
    "      - relational database\n",
    "\n",
    "\n",
    "\n",
    "\n"
   ]
  },
  {
   "cell_type": "markdown",
   "metadata": {},
   "source": [
    "<div class=\"alert alert-block alert-danger\">\n",
    "<b>Important::</b> You MAY NOT reuse the station or datasettype that was demostrated above. This means the following are off limits: \n",
    "    \n",
    "   * ID = 'USW00023129'\n",
    "   * datatypeid = 'TAVG'\n",
    "\n",
    "</div>"
   ]
  },
  {
   "cell_type": "markdown",
   "metadata": {},
   "source": [
    "<div class=\"alert alert-block alert-warning\">\n",
    "<b>Hint:</b> The NOAA API will only allow you to pull one year of data at a time.\n",
    "</div>"
   ]
  },
  {
   "cell_type": "markdown",
   "metadata": {},
   "source": [
    "## <b>This is where my Week 7 assignment submittal begins:</b><br>"
   ]
  },
  {
   "cell_type": "code",
   "execution_count": 1,
   "metadata": {},
   "outputs": [],
   "source": [
    "#These are my credentials for NOAA API, again. \n",
    "\n",
    "my_token = 'LpPfhXrxDaaDzrGeNpdmsRlpJFmNspKG'"
   ]
  },
  {
   "cell_type": "markdown",
   "metadata": {},
   "source": [
    "The background story is that I initially wanted to obtain the weather station data from 2012 when my husband and I celebrated our 10 year marriage anniversary. I figured if I was going to conduct an exploratory data analysis on weather, let's make it fun and interesting... I later learned the hard way that no data from the Hana airport or closer weather station in Hana, HI were recorded on the NOAA API website in 2012. Therefore, I settled on the airport that we flew into in April 2012: Kahului Airport (OGG; airport code) of the island of Maui, Hawaii.<br>\n",
    "<br>\n",
    "<br>On a side note....interestingly, Paris, France was my second weather station location of interest. I have dreamt of going to Paris since Sophmore year of high school. Even with speaking very little french language, I have always wanted to EAT, SHOP, and SCROLL the city of Paris. Perhaps if time persists...I can expand upon that interestst."
   ]
  },
  {
   "cell_type": "markdown",
   "metadata": {},
   "source": [
    "Here is an outline of my Week 7 deliverables within this Jupyter Notebook:\n",
    "   * Determine an appropriate dataset: Kahului Airport (Maui), HI, US\n",
    "   * Determine an appropriatedataset type: AWND (Average Wind Speed)\n",
    "   * Pull at least 3 years worth of data: 11/1/2013 to 12/31/2015<br>\n",
    "     Note: if you pick an annual dataset, you will need to pull at least 25 years worth of data.\n",
    "   * Organize your results into a meaningful representation: EDA, dataframes, averages, and etc...\n",
    "   * Store your result in one of the following format: csv file"
   ]
  },
  {
   "cell_type": "code",
   "execution_count": 3,
   "metadata": {},
   "outputs": [
    {
     "name": "stdout",
     "output_type": "stream",
     "text": [
      "GHCND:USW00022516\n"
     ]
    }
   ],
   "source": [
    "# variables based on my station search\n",
    "network = 'GHCND'\n",
    "ID = 'USW00022516'\n",
    "\n",
    "#My Weather Station selection: Kahului Airport in Maui, Hawaii\n",
    "#Name Kahului Airport (Maui), HI, US\n",
    "#NetworkID: GHCND:USW00022516\n",
    "#Latitude/Longitude: 20.89972°, -156.42861° \n",
    "#Elevation: 15.5 m \n",
    "\n",
    "# station_id = network:ID\n",
    "station_id = network + ':' + ID\n",
    "print(station_id)"
   ]
  },
  {
   "cell_type": "code",
   "execution_count": 4,
   "metadata": {},
   "outputs": [],
   "source": [
    "#Build dictionary of parameters in our request\n",
    "import requests\n",
    "import json\n",
    "\n",
    "# building the parameter dictionary\n",
    "# 'limit = 1000' --> What does this do? Look at the NOAA API documentation\n",
    "data = {}\n",
    "data = {'limit':'1000', 'datasetid': network, 'station_id': station_id}\n",
    "\n",
    "# calling NOAA API to get the available datatypes for this specific station\n",
    "r = requests.get('https://www.ncdc.noaa.gov/cdo-web/api/v2/datatypes',params = data, headers = {'token':my_token})"
   ]
  },
  {
   "cell_type": "code",
   "execution_count": 5,
   "metadata": {},
   "outputs": [
    {
     "data": {
      "text/plain": [
       "dict_keys(['metadata', 'results'])"
      ]
     },
     "execution_count": 5,
     "metadata": {},
     "output_type": "execute_result"
    }
   ],
   "source": [
    "#Convert above JSON output into more readable format\n",
    "\n",
    "# JSON to dictionary\n",
    "datatypes_dict = json.loads(r.text)\n",
    "\n",
    "# need the keys from this dictionary\n",
    "datatypes_dict.keys()"
   ]
  },
  {
   "cell_type": "code",
   "execution_count": 6,
   "metadata": {},
   "outputs": [
    {
     "data": {
      "text/plain": [
       "[{'mindate': '1994-03-19',\n",
       "  'maxdate': '1996-05-28',\n",
       "  'name': 'Average cloudiness midnight to midnight from 30-second ceilometer data',\n",
       "  'datacoverage': 1,\n",
       "  'id': 'ACMC'},\n",
       " {'mindate': '1965-01-01',\n",
       "  'maxdate': '2005-12-31',\n",
       "  'name': 'Average cloudiness midnight to midnight from manual observations',\n",
       "  'datacoverage': 1,\n",
       "  'id': 'ACMH'},\n",
       " {'mindate': '1994-02-01',\n",
       "  'maxdate': '1996-05-28',\n",
       "  'name': 'Average cloudiness sunrise to sunset from 30-second ceilometer data',\n",
       "  'datacoverage': 1,\n",
       "  'id': 'ACSC'},\n",
       " {'mindate': '1965-01-01',\n",
       "  'maxdate': '2005-12-31',\n",
       "  'name': 'Average cloudiness sunrise to sunset from manual observations',\n",
       "  'datacoverage': 1,\n",
       "  'id': 'ACSH'},\n",
       " {'mindate': '1982-01-01',\n",
       "  'maxdate': '2019-12-24',\n",
       "  'name': 'Average wind speed',\n",
       "  'datacoverage': 1,\n",
       "  'id': 'AWND'},\n",
       " {'mindate': '1948-08-02',\n",
       "  'maxdate': '2012-07-23',\n",
       "  'name': 'Number of days included in the multiday evaporation total (MDEV)',\n",
       "  'datacoverage': 1,\n",
       "  'id': 'DAEV'},\n",
       " {'mindate': '1832-05-11',\n",
       "  'maxdate': '2019-12-25',\n",
       "  'name': 'Number of days included in the multiday precipitation total (MDPR)',\n",
       "  'datacoverage': 1,\n",
       "  'id': 'DAPR'},\n",
       " {'mindate': '1883-01-10',\n",
       "  'maxdate': '2019-01-14',\n",
       "  'name': 'Number of days included in the multiday snow fall total (MDSF) ',\n",
       "  'datacoverage': 1,\n",
       "  'id': 'DASF'},\n",
       " {'mindate': '1863-05-04',\n",
       "  'maxdate': '2019-11-05',\n",
       "  'name': 'Number of days included in the multiday minimum temperature (MDTN)',\n",
       "  'datacoverage': 1,\n",
       "  'id': 'DATN'},\n",
       " {'mindate': '1863-05-04',\n",
       "  'maxdate': '2019-11-04',\n",
       "  'name': 'Number of days included in the multiday maximum temperature (MDTX)',\n",
       "  'datacoverage': 1,\n",
       "  'id': 'DATX'}]"
      ]
     },
     "execution_count": 6,
     "metadata": {},
     "output_type": "execute_result"
    }
   ],
   "source": [
    "#Look at first few results\n",
    "datatypes_dict['results'][:10]"
   ]
  },
  {
   "cell_type": "code",
   "execution_count": 7,
   "metadata": {},
   "outputs": [
    {
     "data": {
      "text/plain": [
       "{'mindate': '1982-01-01',\n",
       " 'maxdate': '2019-12-24',\n",
       " 'name': 'Average wind speed',\n",
       " 'datacoverage': 1,\n",
       " 'id': 'AWND'}"
      ]
     },
     "execution_count": 7,
     "metadata": {},
     "output_type": "execute_result"
    }
   ],
   "source": [
    "#Let's just look at the AWND (Avereage Wind Speed) from the results\n",
    "results = datatypes_dict['results']\n",
    "results[4]"
   ]
  },
  {
   "cell_type": "code",
   "execution_count": 8,
   "metadata": {},
   "outputs": [
    {
     "name": "stdout",
     "output_type": "stream",
     "text": [
      "ACMC:     Average cloudiness midnight to midnight from 30-second ceilometer data\n",
      "ACMH:     Average cloudiness midnight to midnight from manual observations\n",
      "ACSC:     Average cloudiness sunrise to sunset from 30-second ceilometer data\n",
      "ACSH:     Average cloudiness sunrise to sunset from manual observations\n",
      "AWND:     Average wind speed\n",
      "DAEV:     Number of days included in the multiday evaporation total (MDEV)\n",
      "DAPR:     Number of days included in the multiday precipitation total (MDPR)\n",
      "DASF:     Number of days included in the multiday snow fall total (MDSF) \n",
      "DATN:     Number of days included in the multiday minimum temperature (MDTN)\n",
      "DATX:     Number of days included in the multiday maximum temperature (MDTX)\n",
      "DAWM:     Number of days included in the multiday wind movement (MDWM)\n",
      "DWPR:     Number of days with non-zero precipitation included in multiday precipitation total (MDPR)\n",
      "EVAP:     Evaporation of water from evaporation pan\n",
      "FMTM:     Time of fastest mile or fastest 1-minute wind\n",
      "FRGB:     Base of frozen ground layer\n",
      "FRGT:     Top of frozen ground layer\n",
      "FRTH:     Thickness of frozen ground layer\n",
      "GAHT:     Difference between river and gauge height\n",
      "MDEV:     Multiday evaporation total (use with DAEV)\n",
      "MDPR:     Multiday precipitation total (use with DAPR and DWPR, if available)\n",
      "MDSF:     Multiday snowfall total \n",
      "MDTN:     Multiday minimum temperature (use with DATN)\n",
      "MDTX:     Multiday maximum temperature (use with DATX)\n",
      "MDWM:     Multiday wind movement\n",
      "MNPN:     Daily minimum temperature of water in an evaporation pan\n",
      "MXPN:     Daily maximum temperature of water in an evaporation pan\n",
      "PGTM:     Peak gust time\n",
      "PRCP:     Precipitation\n",
      "PSUN:     Daily percent of possible sunshine for the period\n",
      "SN01:     Minimum soil temperature with unknown cover at 5 cm depth\n",
      "SN02:     Minimum soil temperature with unknown cover at 10 cm depth\n",
      "SN03:     Minimum soil temperature with unknown cover at 20 cm depth\n",
      "SN11:     Minimum soil temperature with grass cover at 5 cm depth\n",
      "SN12:     Minimum soil temperature with grass cover at 10 cm depth\n",
      "SN13:     Minimum soil temperature with grass cover at 20 cm depth\n",
      "SN14:     Minimum soil temperature with grass cover at 50 cm depth\n",
      "SN21:     Minimum soil temperature with fallow cover at 5 cm depth\n",
      "SN22:     Minimum soil temperature with fallow cover at 10 cm depth\n",
      "SN23:     Minimum soil temperature with fallow cover at 20 cm depth\n",
      "SN31:     Minimum soil temperature with bare ground cover at 5 cm depth\n",
      "SN32:     Minimum soil temperature with bare ground cover at 10 cm depth\n",
      "SN33:     Minimum soil temperature with bare ground cover at 20 cm depth\n",
      "SN34:     Minimum soil temperature with bare ground cover at 50 cm depth\n",
      "SN35:     Minimum soil temperature with bare ground cover at 100 cm depth\n",
      "SN36:     Minimum soil temperature with bare ground cover at 150 cm depth\n",
      "SN51:     Minimum soil temperature with sod cover at 5 cm depth\n",
      "SN52:     Minimum soil temperature with sod cover at 10 cm depth\n",
      "SN53:     Minimum soil temperature with sod cover at 20 cm depth\n",
      "SN54:     Minimum soil temperature with sod cover at 50 cm depth\n",
      "SN55:     Minimum soil temperature with sod cover at 100 cm depth\n",
      "SN56:     Minimum soil temperature with sod cover at 150 cm depth\n",
      "SN57:     Minimum soil temperature with sod cover at 180 cm depth\n",
      "SN61:     Minimum soil temperature with straw multch cover at 5 cm depth\n",
      "SN72:     Minimum soil temperature with grass muck cover at 10 cm depth\n",
      "SN81:     Minimum soil temperature with bare muck cover at 5 cm depth\n",
      "SN82:     Minimum soil temperature with bare muck cover at 10 cm depth\n",
      "SN83:     Minimum soil temperature with bare muck cover at 20 cm depth\n",
      "SNOW:     Snowfall\n",
      "SNWD:     Snow depth\n",
      "SX01:     Maximum soil temperature with unknown cover at 5 cm depth\n",
      "SX02:     Maximum soil temperature with unknown cover at 10 cm depth\n",
      "SX03:     Maximum soil temperature with unknown cover at 20 cm depth\n",
      "SX11:     Maximum soil temperature with grass cover at 5 cm depth\n",
      "SX12:     Maximum soil temperature with grass cover at 10 cm depth\n",
      "SX13:     Maximum soil temperature with grass cover at 20 cm depth\n",
      "SX14:     Maximum soil temperature with grass cover at 50 cm depth\n",
      "SX15:     Maximum soil temperature with grass cover at 100 cm depth\n",
      "SX17:     Maximum soil temperature with grass cover at 180 cm depth\n",
      "SX21:     Maximum soil temperature with fallow cover at 5 cm depth\n",
      "SX22:     Maximum soil temperature with fallow cover at 10 cm depth\n",
      "SX23:     Maximum soil temperature with fallow cover at 20 cm depth\n",
      "SX31:     Maximum soil temperature with bare ground cover at 5 cm depth\n",
      "SX32:     Maximum soil temperature with bare ground cover at 10 cm depth\n",
      "SX33:     Maximum soil temperature with bare ground cover at 20 cm depth\n",
      "SX34:     Maximum soil temperature with bare ground cover at 50 cm depth\n",
      "SX35:     Maximum soil temperature with bare ground cover at 100 cm depth\n",
      "SX36:     Maximum soil temperature with bare ground cover at 150 cm depth\n",
      "SX51:     Maximum soil temperature with sod cover at 5 cm depth\n",
      "SX52:     Maximum soil temperature with sod cover at 10 cm depth\n",
      "SX53:     Maximum soil temperature with sod cover at 20 cm depth\n",
      "SX54:     Maximum soil temperature with sod cover at 50 cm depth\n",
      "SX55:     Maximum soil temperature with sod cover at 100 cm depth\n",
      "SX56:     Maximum soil temperature with sod cover at 150 cm depth\n",
      "SX57:     Maximum soil temperature with sod cover at 180 cm depth\n",
      "SX61:     Maximum soil temperature with straw multch cover at 5 cm depth\n",
      "SX72:     Maximum soil temperature with grass muck cover at 10 cm depth\n",
      "SX81:     Maximum soil temperature with bare muck cover at 5 cm depth\n",
      "SX82:     Maximum soil temperature with bare muck cover at 10 cm depth\n",
      "SX83:     Maximum soil temperature with bare muck cover at 20 cm depth\n",
      "TAVG:     Average Temperature.\n",
      "THIC:     Thickness of ice on water\n",
      "TMAX:     Maximum temperature\n",
      "TMIN:     Minimum temperature\n",
      "TOBS:     Temperature at the time of observation\n",
      "TSUN:     Total sunshine for the period\n",
      "WDF1:     Direction of fastest 1-minute wind\n",
      "WDF2:     Direction of fastest 2-minute wind\n",
      "WDF5:     Direction of fastest 5-second wind\n",
      "WDFG:     Direction of peak wind gust\n",
      "WDFI:     Direction of highest instantaneous wind\n",
      "WDFM:     Fastest mile wind direction\n",
      "WDMV:     Total wind movement\n",
      "WESD:     Water equivalent of snow on the ground\n",
      "WESF:     Water equivalent of snowfall\n",
      "WSF1:     Fastest 1-minute wind speed\n",
      "WSF2:     Fastest 2-minute wind speed\n",
      "WSF5:     Fastest 5-second wind speed\n",
      "WSFG:     Peak gust wind speed\n",
      "WSFI:     Highest instantaneous wind speed\n",
      "WSFM:     Fastest mile wind speed\n",
      "WT01:     Fog, ice fog, or freezing fog (may include heavy fog)\n",
      "WT02:     Heavy fog or heaving freezing fog (not always distinguished from fog)\n",
      "WT03:     Thunder\n",
      "WT04:     Ice pellets, sleet, snow pellets, or small hail\" \n",
      "WT05:     Hail (may include small hail)\n",
      "WT06:     Glaze or rime \n",
      "WT07:     Dust, volcanic ash, blowing dust, blowing sand, or blowing obstruction\n",
      "WT08:     Smoke or haze \n",
      "WT09:     Blowing or drifting snow\n",
      "WT10:     Tornado, waterspout, or funnel cloud\" \n",
      "WT11:     High or damaging winds\n",
      "WT12:     Blowing spray\n",
      "WT13:     Mist\n",
      "WT14:     Drizzle\n",
      "WT15:     Freezing drizzle \n",
      "WT16:     Rain (may include freezing rain, drizzle, and freezing drizzle)\" \n",
      "WT17:     Freezing rain \n",
      "WT18:     Snow, snow pellets, snow grains, or ice crystals\n",
      "WT19:     Unknown source of precipitation \n",
      "WT21:     Ground fog \n",
      "WT22:     Ice fog or freezing fog\n",
      "WV01:     Fog, ice fog, or freezing fog (may include heavy fog)\n",
      "WV03:     Thunder\n",
      "WV07:     Ash, dust, sand, or other blowing obstruction\n",
      "WV18:     Snow or ice crystals\n",
      "WV20:     Rain or snow shower\n"
     ]
    }
   ],
   "source": [
    "for result in results:\n",
    "    print(f\"{result['id']}:     {result['name']}\")"
   ]
  },
  {
   "cell_type": "code",
   "execution_count": 9,
   "metadata": {},
   "outputs": [
    {
     "data": {
      "text/plain": [
       "{'limit': '1000',\n",
       " 'datasetid': 'GHCND',\n",
       " 'stationid': 'GHCND:USW00022516',\n",
       " 'datatypeid': 'AWND',\n",
       " 'startdate': '2013-01-01',\n",
       " 'enddate': '2013-12-31',\n",
       " 'units': 'standard'}"
      ]
     },
     "execution_count": 9,
     "metadata": {},
     "output_type": "execute_result"
    }
   ],
   "source": [
    "#Get first year of data (2013) and set parrameters\n",
    "data = {}\n",
    "data = {'limit':'1000', 'datasetid': network, 'stationid': station_id}\n",
    "\n",
    "#I am going to continue to focus on AWND (Average Wind Speed)\n",
    "\n",
    "# append additional parameters to data dictionary\n",
    "data.update({'datatypeid': 'AWND'})\n",
    "data.update({'startdate': '2013-01-01'})\n",
    "data.update({'enddate': '2013-12-31'})\n",
    "data.update({'units':'standard'})\n",
    "data"
   ]
  },
  {
   "cell_type": "code",
   "execution_count": 10,
   "metadata": {},
   "outputs": [],
   "source": [
    "#Request year of data and make the request to get our year of data\n",
    "r = requests.get('https://www.ncdc.noaa.gov/cdo-web/api/v2/data',params = data, headers = {'token':my_token})\n",
    "\n",
    "#load the api response as a json\n",
    "avg_OGG_Wind_2013_dict = json.loads(r.text)"
   ]
  },
  {
   "cell_type": "code",
   "execution_count": 11,
   "metadata": {},
   "outputs": [
    {
     "data": {
      "text/plain": [
       "[{'date': '2013-01-01T00:00:00',\n",
       "  'datatype': 'AWND',\n",
       "  'station': 'GHCND:USW00022516',\n",
       "  'attributes': ',,X,',\n",
       "  'value': 13.9},\n",
       " {'date': '2013-01-02T00:00:00',\n",
       "  'datatype': 'AWND',\n",
       "  'station': 'GHCND:USW00022516',\n",
       "  'attributes': ',,X,',\n",
       "  'value': 15.9},\n",
       " {'date': '2013-01-03T00:00:00',\n",
       "  'datatype': 'AWND',\n",
       "  'station': 'GHCND:USW00022516',\n",
       "  'attributes': ',,X,',\n",
       "  'value': 15.2},\n",
       " {'date': '2013-01-04T00:00:00',\n",
       "  'datatype': 'AWND',\n",
       "  'station': 'GHCND:USW00022516',\n",
       "  'attributes': ',,X,',\n",
       "  'value': 19.5},\n",
       " {'date': '2013-01-05T00:00:00',\n",
       "  'datatype': 'AWND',\n",
       "  'station': 'GHCND:USW00022516',\n",
       "  'attributes': ',,X,',\n",
       "  'value': 20.1},\n",
       " {'date': '2013-01-06T00:00:00',\n",
       "  'datatype': 'AWND',\n",
       "  'station': 'GHCND:USW00022516',\n",
       "  'attributes': ',,X,',\n",
       "  'value': 17.0},\n",
       " {'date': '2013-01-07T00:00:00',\n",
       "  'datatype': 'AWND',\n",
       "  'station': 'GHCND:USW00022516',\n",
       "  'attributes': ',,X,',\n",
       "  'value': 18.6},\n",
       " {'date': '2013-01-08T00:00:00',\n",
       "  'datatype': 'AWND',\n",
       "  'station': 'GHCND:USW00022516',\n",
       "  'attributes': ',,X,',\n",
       "  'value': 13.6},\n",
       " {'date': '2013-01-09T00:00:00',\n",
       "  'datatype': 'AWND',\n",
       "  'station': 'GHCND:USW00022516',\n",
       "  'attributes': ',,X,',\n",
       "  'value': 15.0},\n",
       " {'date': '2013-01-10T00:00:00',\n",
       "  'datatype': 'AWND',\n",
       "  'station': 'GHCND:USW00022516',\n",
       "  'attributes': ',,X,',\n",
       "  'value': 11.2}]"
      ]
     },
     "execution_count": 11,
     "metadata": {},
     "output_type": "execute_result"
    }
   ],
   "source": [
    "# look at the first record of our data\n",
    "avg_OGG_Wind_2013_dict['results'][:10]"
   ]
  },
  {
   "cell_type": "code",
   "execution_count": 12,
   "metadata": {},
   "outputs": [
    {
     "data": {
      "text/plain": [
       "365"
      ]
     },
     "execution_count": 12,
     "metadata": {},
     "output_type": "execute_result"
    }
   ],
   "source": [
    "# Verify there is a record for each day as there are 365 days in a year\n",
    "len(avg_OGG_Wind_2013_dict['results'])"
   ]
  },
  {
   "cell_type": "code",
   "execution_count": 13,
   "metadata": {},
   "outputs": [
    {
     "name": "stdout",
     "output_type": "stream",
     "text": [
      "{'date': '2013-01-01T00:00:00', 'datatype': 'AWND', 'station': 'GHCND:USW00022516', 'attributes': ',,X,', 'value': 13.9}\n",
      "{'date': '2013-12-31T00:00:00', 'datatype': 'AWND', 'station': 'GHCND:USW00022516', 'attributes': ',,W,', 'value': 8.3}\n"
     ]
    }
   ],
   "source": [
    "# look at the first and last day\n",
    "print(avg_OGG_Wind_2013_dict['results'][0])\n",
    "print(avg_OGG_Wind_2013_dict['results'][364])"
   ]
  },
  {
   "cell_type": "code",
   "execution_count": 14,
   "metadata": {},
   "outputs": [
    {
     "data": {
      "text/plain": [
       "dict"
      ]
     },
     "execution_count": 14,
     "metadata": {},
     "output_type": "execute_result"
    }
   ],
   "source": [
    "#Check the type to ensure it is a dictionary\n",
    "type(avg_OGG_Wind_2013_dict)"
   ]
  },
  {
   "cell_type": "code",
   "execution_count": 15,
   "metadata": {},
   "outputs": [
    {
     "data": {
      "text/plain": [
       "list"
      ]
     },
     "execution_count": 15,
     "metadata": {},
     "output_type": "execute_result"
    }
   ],
   "source": [
    "#Chec the 'results' value type\n",
    "type(avg_OGG_Wind_2013_dict['results'])"
   ]
  },
  {
   "cell_type": "code",
   "execution_count": 16,
   "metadata": {},
   "outputs": [],
   "source": [
    "#Let's pretty print the dictionary for no reason...just to try it.\n",
    "from pprint import pprint"
   ]
  },
  {
   "cell_type": "code",
   "execution_count": 17,
   "metadata": {},
   "outputs": [],
   "source": [
    "def printplus(obj):\n",
    "    \"\"\"\n",
    "    Pretty-prints the object passed in.\n",
    "\n",
    "    \"\"\"\n",
    "    # Dict\n",
    "    if isinstance(obj, dict):\n",
    "        for k, v in sorted(obj.items()):\n",
    "            print (u'{0}: {1}'.format(k, v))\n",
    "\n",
    "    # List or tuple            \n",
    "    elif isinstance(obj, list) or isinstance(obj, tuple):\n",
    "        for x in obj:\n",
    "            print (x)\n",
    "\n",
    "    # Other\n",
    "    else:\n",
    "        print (obj)"
   ]
  },
  {
   "cell_type": "code",
   "execution_count": 18,
   "metadata": {},
   "outputs": [
    {
     "name": "stdout",
     "output_type": "stream",
     "text": [
      "metadata: {'resultset': {'offset': 1, 'count': 365, 'limit': 1000}}\n",
      "results: [{'date': '2013-01-01T00:00:00', 'datatype': 'AWND', 'station': 'GHCND:USW00022516', 'attributes': ',,X,', 'value': 13.9}, {'date': '2013-01-02T00:00:00', 'datatype': 'AWND', 'station': 'GHCND:USW00022516', 'attributes': ',,X,', 'value': 15.9}, {'date': '2013-01-03T00:00:00', 'datatype': 'AWND', 'station': 'GHCND:USW00022516', 'attributes': ',,X,', 'value': 15.2}, {'date': '2013-01-04T00:00:00', 'datatype': 'AWND', 'station': 'GHCND:USW00022516', 'attributes': ',,X,', 'value': 19.5}, {'date': '2013-01-05T00:00:00', 'datatype': 'AWND', 'station': 'GHCND:USW00022516', 'attributes': ',,X,', 'value': 20.1}, {'date': '2013-01-06T00:00:00', 'datatype': 'AWND', 'station': 'GHCND:USW00022516', 'attributes': ',,X,', 'value': 17.0}, {'date': '2013-01-07T00:00:00', 'datatype': 'AWND', 'station': 'GHCND:USW00022516', 'attributes': ',,X,', 'value': 18.6}, {'date': '2013-01-08T00:00:00', 'datatype': 'AWND', 'station': 'GHCND:USW00022516', 'attributes': ',,X,', 'value': 13.6}, {'date': '2013-01-09T00:00:00', 'datatype': 'AWND', 'station': 'GHCND:USW00022516', 'attributes': ',,X,', 'value': 15.0}, {'date': '2013-01-10T00:00:00', 'datatype': 'AWND', 'station': 'GHCND:USW00022516', 'attributes': ',,X,', 'value': 11.2}, {'date': '2013-01-11T00:00:00', 'datatype': 'AWND', 'station': 'GHCND:USW00022516', 'attributes': ',,X,', 'value': 11.2}, {'date': '2013-01-12T00:00:00', 'datatype': 'AWND', 'station': 'GHCND:USW00022516', 'attributes': ',,X,', 'value': 4.7}, {'date': '2013-01-13T00:00:00', 'datatype': 'AWND', 'station': 'GHCND:USW00022516', 'attributes': ',,X,', 'value': 4.3}, {'date': '2013-01-14T00:00:00', 'datatype': 'AWND', 'station': 'GHCND:USW00022516', 'attributes': ',,X,', 'value': 11.4}, {'date': '2013-01-15T00:00:00', 'datatype': 'AWND', 'station': 'GHCND:USW00022516', 'attributes': ',,X,', 'value': 5.4}, {'date': '2013-01-16T00:00:00', 'datatype': 'AWND', 'station': 'GHCND:USW00022516', 'attributes': ',,X,', 'value': 5.8}, {'date': '2013-01-17T00:00:00', 'datatype': 'AWND', 'station': 'GHCND:USW00022516', 'attributes': ',,X,', 'value': 4.9}, {'date': '2013-01-18T00:00:00', 'datatype': 'AWND', 'station': 'GHCND:USW00022516', 'attributes': ',,X,', 'value': 8.1}, {'date': '2013-01-19T00:00:00', 'datatype': 'AWND', 'station': 'GHCND:USW00022516', 'attributes': ',,X,', 'value': 12.3}, {'date': '2013-01-20T00:00:00', 'datatype': 'AWND', 'station': 'GHCND:USW00022516', 'attributes': ',,X,', 'value': 15.4}, {'date': '2013-01-21T00:00:00', 'datatype': 'AWND', 'station': 'GHCND:USW00022516', 'attributes': ',,X,', 'value': 17.4}, {'date': '2013-01-22T00:00:00', 'datatype': 'AWND', 'station': 'GHCND:USW00022516', 'attributes': ',,X,', 'value': 17.2}, {'date': '2013-01-23T00:00:00', 'datatype': 'AWND', 'station': 'GHCND:USW00022516', 'attributes': ',,X,', 'value': 9.4}, {'date': '2013-01-24T00:00:00', 'datatype': 'AWND', 'station': 'GHCND:USW00022516', 'attributes': ',,X,', 'value': 6.3}, {'date': '2013-01-25T00:00:00', 'datatype': 'AWND', 'station': 'GHCND:USW00022516', 'attributes': ',,X,', 'value': 5.6}, {'date': '2013-01-26T00:00:00', 'datatype': 'AWND', 'station': 'GHCND:USW00022516', 'attributes': ',,X,', 'value': 5.1}, {'date': '2013-01-27T00:00:00', 'datatype': 'AWND', 'station': 'GHCND:USW00022516', 'attributes': ',,X,', 'value': 10.7}, {'date': '2013-01-28T00:00:00', 'datatype': 'AWND', 'station': 'GHCND:USW00022516', 'attributes': ',,X,', 'value': 4.9}, {'date': '2013-01-29T00:00:00', 'datatype': 'AWND', 'station': 'GHCND:USW00022516', 'attributes': ',,X,', 'value': 3.6}, {'date': '2013-01-30T00:00:00', 'datatype': 'AWND', 'station': 'GHCND:USW00022516', 'attributes': ',,X,', 'value': 6.5}, {'date': '2013-01-31T00:00:00', 'datatype': 'AWND', 'station': 'GHCND:USW00022516', 'attributes': ',,X,', 'value': 11.2}, {'date': '2013-02-01T00:00:00', 'datatype': 'AWND', 'station': 'GHCND:USW00022516', 'attributes': ',,X,', 'value': 18.3}, {'date': '2013-02-02T00:00:00', 'datatype': 'AWND', 'station': 'GHCND:USW00022516', 'attributes': ',,X,', 'value': 13.6}, {'date': '2013-02-03T00:00:00', 'datatype': 'AWND', 'station': 'GHCND:USW00022516', 'attributes': ',,X,', 'value': 15.2}, {'date': '2013-02-04T00:00:00', 'datatype': 'AWND', 'station': 'GHCND:USW00022516', 'attributes': ',,X,', 'value': 18.1}, {'date': '2013-02-05T00:00:00', 'datatype': 'AWND', 'station': 'GHCND:USW00022516', 'attributes': ',,X,', 'value': 13.0}, {'date': '2013-02-06T00:00:00', 'datatype': 'AWND', 'station': 'GHCND:USW00022516', 'attributes': ',,X,', 'value': 12.5}, {'date': '2013-02-07T00:00:00', 'datatype': 'AWND', 'station': 'GHCND:USW00022516', 'attributes': ',,X,', 'value': 13.2}, {'date': '2013-02-08T00:00:00', 'datatype': 'AWND', 'station': 'GHCND:USW00022516', 'attributes': ',,X,', 'value': 10.1}, {'date': '2013-02-09T00:00:00', 'datatype': 'AWND', 'station': 'GHCND:USW00022516', 'attributes': ',,X,', 'value': 11.0}, {'date': '2013-02-10T00:00:00', 'datatype': 'AWND', 'station': 'GHCND:USW00022516', 'attributes': ',,X,', 'value': 15.7}, {'date': '2013-02-11T00:00:00', 'datatype': 'AWND', 'station': 'GHCND:USW00022516', 'attributes': ',,X,', 'value': 14.8}, {'date': '2013-02-12T00:00:00', 'datatype': 'AWND', 'station': 'GHCND:USW00022516', 'attributes': ',,X,', 'value': 14.1}, {'date': '2013-02-13T00:00:00', 'datatype': 'AWND', 'station': 'GHCND:USW00022516', 'attributes': ',,X,', 'value': 11.6}, {'date': '2013-02-14T00:00:00', 'datatype': 'AWND', 'station': 'GHCND:USW00022516', 'attributes': ',,X,', 'value': 13.2}, {'date': '2013-02-15T00:00:00', 'datatype': 'AWND', 'station': 'GHCND:USW00022516', 'attributes': ',,X,', 'value': 15.4}, {'date': '2013-02-16T00:00:00', 'datatype': 'AWND', 'station': 'GHCND:USW00022516', 'attributes': ',,X,', 'value': 14.8}, {'date': '2013-02-17T00:00:00', 'datatype': 'AWND', 'station': 'GHCND:USW00022516', 'attributes': ',,X,', 'value': 15.0}, {'date': '2013-02-18T00:00:00', 'datatype': 'AWND', 'station': 'GHCND:USW00022516', 'attributes': ',,X,', 'value': 16.1}, {'date': '2013-02-19T00:00:00', 'datatype': 'AWND', 'station': 'GHCND:USW00022516', 'attributes': ',,X,', 'value': 15.7}, {'date': '2013-02-20T00:00:00', 'datatype': 'AWND', 'station': 'GHCND:USW00022516', 'attributes': ',,X,', 'value': 16.6}, {'date': '2013-02-21T00:00:00', 'datatype': 'AWND', 'station': 'GHCND:USW00022516', 'attributes': ',,X,', 'value': 15.4}, {'date': '2013-02-22T00:00:00', 'datatype': 'AWND', 'station': 'GHCND:USW00022516', 'attributes': ',,X,', 'value': 16.8}, {'date': '2013-02-23T00:00:00', 'datatype': 'AWND', 'station': 'GHCND:USW00022516', 'attributes': ',,X,', 'value': 15.7}, {'date': '2013-02-24T00:00:00', 'datatype': 'AWND', 'station': 'GHCND:USW00022516', 'attributes': ',,X,', 'value': 14.1}, {'date': '2013-02-25T00:00:00', 'datatype': 'AWND', 'station': 'GHCND:USW00022516', 'attributes': ',,X,', 'value': 15.2}, {'date': '2013-02-26T00:00:00', 'datatype': 'AWND', 'station': 'GHCND:USW00022516', 'attributes': ',,X,', 'value': 14.5}, {'date': '2013-02-27T00:00:00', 'datatype': 'AWND', 'station': 'GHCND:USW00022516', 'attributes': ',,X,', 'value': 17.2}, {'date': '2013-02-28T00:00:00', 'datatype': 'AWND', 'station': 'GHCND:USW00022516', 'attributes': ',,X,', 'value': 16.3}, {'date': '2013-03-01T00:00:00', 'datatype': 'AWND', 'station': 'GHCND:USW00022516', 'attributes': ',,X,', 'value': 14.3}, {'date': '2013-03-02T00:00:00', 'datatype': 'AWND', 'station': 'GHCND:USW00022516', 'attributes': ',,X,', 'value': 17.0}, {'date': '2013-03-03T00:00:00', 'datatype': 'AWND', 'station': 'GHCND:USW00022516', 'attributes': ',,X,', 'value': 15.7}, {'date': '2013-03-04T00:00:00', 'datatype': 'AWND', 'station': 'GHCND:USW00022516', 'attributes': ',,X,', 'value': 15.9}, {'date': '2013-03-05T00:00:00', 'datatype': 'AWND', 'station': 'GHCND:USW00022516', 'attributes': ',,X,', 'value': 13.6}, {'date': '2013-03-06T00:00:00', 'datatype': 'AWND', 'station': 'GHCND:USW00022516', 'attributes': ',,X,', 'value': 11.2}, {'date': '2013-03-07T00:00:00', 'datatype': 'AWND', 'station': 'GHCND:USW00022516', 'attributes': ',,X,', 'value': 8.5}, {'date': '2013-03-08T00:00:00', 'datatype': 'AWND', 'station': 'GHCND:USW00022516', 'attributes': ',,X,', 'value': 5.8}, {'date': '2013-03-09T00:00:00', 'datatype': 'AWND', 'station': 'GHCND:USW00022516', 'attributes': ',,X,', 'value': 15.7}, {'date': '2013-03-10T00:00:00', 'datatype': 'AWND', 'station': 'GHCND:USW00022516', 'attributes': ',,X,', 'value': 13.2}, {'date': '2013-03-11T00:00:00', 'datatype': 'AWND', 'station': 'GHCND:USW00022516', 'attributes': ',,X,', 'value': 5.1}, {'date': '2013-03-12T00:00:00', 'datatype': 'AWND', 'station': 'GHCND:USW00022516', 'attributes': ',,X,', 'value': 6.0}, {'date': '2013-03-13T00:00:00', 'datatype': 'AWND', 'station': 'GHCND:USW00022516', 'attributes': ',,X,', 'value': 8.5}, {'date': '2013-03-14T00:00:00', 'datatype': 'AWND', 'station': 'GHCND:USW00022516', 'attributes': ',,X,', 'value': 4.7}, {'date': '2013-03-15T00:00:00', 'datatype': 'AWND', 'station': 'GHCND:USW00022516', 'attributes': ',,X,', 'value': 8.1}, {'date': '2013-03-16T00:00:00', 'datatype': 'AWND', 'station': 'GHCND:USW00022516', 'attributes': ',,X,', 'value': 11.0}, {'date': '2013-03-17T00:00:00', 'datatype': 'AWND', 'station': 'GHCND:USW00022516', 'attributes': ',,X,', 'value': 6.3}, {'date': '2013-03-18T00:00:00', 'datatype': 'AWND', 'station': 'GHCND:USW00022516', 'attributes': ',,X,', 'value': 6.7}, {'date': '2013-03-19T00:00:00', 'datatype': 'AWND', 'station': 'GHCND:USW00022516', 'attributes': ',,X,', 'value': 5.6}, {'date': '2013-03-20T00:00:00', 'datatype': 'AWND', 'station': 'GHCND:USW00022516', 'attributes': ',,X,', 'value': 5.8}, {'date': '2013-03-21T00:00:00', 'datatype': 'AWND', 'station': 'GHCND:USW00022516', 'attributes': ',,X,', 'value': 4.9}, {'date': '2013-03-22T00:00:00', 'datatype': 'AWND', 'station': 'GHCND:USW00022516', 'attributes': ',,X,', 'value': 3.6}, {'date': '2013-03-23T00:00:00', 'datatype': 'AWND', 'station': 'GHCND:USW00022516', 'attributes': ',,X,', 'value': 8.9}, {'date': '2013-03-24T00:00:00', 'datatype': 'AWND', 'station': 'GHCND:USW00022516', 'attributes': ',,X,', 'value': 8.9}, {'date': '2013-03-25T00:00:00', 'datatype': 'AWND', 'station': 'GHCND:USW00022516', 'attributes': ',,X,', 'value': 7.4}, {'date': '2013-03-26T00:00:00', 'datatype': 'AWND', 'station': 'GHCND:USW00022516', 'attributes': ',,X,', 'value': 6.7}, {'date': '2013-03-27T00:00:00', 'datatype': 'AWND', 'station': 'GHCND:USW00022516', 'attributes': ',,X,', 'value': 11.2}, {'date': '2013-03-28T00:00:00', 'datatype': 'AWND', 'station': 'GHCND:USW00022516', 'attributes': ',,X,', 'value': 12.8}, {'date': '2013-03-29T00:00:00', 'datatype': 'AWND', 'station': 'GHCND:USW00022516', 'attributes': ',,X,', 'value': 13.0}, {'date': '2013-03-30T00:00:00', 'datatype': 'AWND', 'station': 'GHCND:USW00022516', 'attributes': ',,X,', 'value': 5.8}, {'date': '2013-03-31T00:00:00', 'datatype': 'AWND', 'station': 'GHCND:USW00022516', 'attributes': ',,X,', 'value': 13.0}, {'date': '2013-04-01T00:00:00', 'datatype': 'AWND', 'station': 'GHCND:USW00022516', 'attributes': ',,W,', 'value': 9.4}, {'date': '2013-04-02T00:00:00', 'datatype': 'AWND', 'station': 'GHCND:USW00022516', 'attributes': ',,W,', 'value': 8.5}, {'date': '2013-04-03T00:00:00', 'datatype': 'AWND', 'station': 'GHCND:USW00022516', 'attributes': ',,W,', 'value': 8.7}, {'date': '2013-04-04T00:00:00', 'datatype': 'AWND', 'station': 'GHCND:USW00022516', 'attributes': ',,W,', 'value': 6.0}, {'date': '2013-04-05T00:00:00', 'datatype': 'AWND', 'station': 'GHCND:USW00022516', 'attributes': ',,W,', 'value': 8.9}, {'date': '2013-04-06T00:00:00', 'datatype': 'AWND', 'station': 'GHCND:USW00022516', 'attributes': ',,W,', 'value': 7.2}, {'date': '2013-04-07T00:00:00', 'datatype': 'AWND', 'station': 'GHCND:USW00022516', 'attributes': ',,W,', 'value': 9.4}, {'date': '2013-04-08T00:00:00', 'datatype': 'AWND', 'station': 'GHCND:USW00022516', 'attributes': ',,W,', 'value': 10.7}, {'date': '2013-04-09T00:00:00', 'datatype': 'AWND', 'station': 'GHCND:USW00022516', 'attributes': ',,W,', 'value': 10.5}, {'date': '2013-04-10T00:00:00', 'datatype': 'AWND', 'station': 'GHCND:USW00022516', 'attributes': ',,W,', 'value': 9.4}, {'date': '2013-04-11T00:00:00', 'datatype': 'AWND', 'station': 'GHCND:USW00022516', 'attributes': ',,W,', 'value': 7.6}, {'date': '2013-04-12T00:00:00', 'datatype': 'AWND', 'station': 'GHCND:USW00022516', 'attributes': ',,W,', 'value': 5.8}, {'date': '2013-04-13T00:00:00', 'datatype': 'AWND', 'station': 'GHCND:USW00022516', 'attributes': ',,W,', 'value': 6.3}, {'date': '2013-04-14T00:00:00', 'datatype': 'AWND', 'station': 'GHCND:USW00022516', 'attributes': ',,W,', 'value': 11.4}, {'date': '2013-04-15T00:00:00', 'datatype': 'AWND', 'station': 'GHCND:USW00022516', 'attributes': ',,W,', 'value': 5.4}, {'date': '2013-04-16T00:00:00', 'datatype': 'AWND', 'station': 'GHCND:USW00022516', 'attributes': ',,W,', 'value': 7.6}, {'date': '2013-04-17T00:00:00', 'datatype': 'AWND', 'station': 'GHCND:USW00022516', 'attributes': ',,W,', 'value': 11.6}, {'date': '2013-04-18T00:00:00', 'datatype': 'AWND', 'station': 'GHCND:USW00022516', 'attributes': ',,W,', 'value': 16.8}, {'date': '2013-04-19T00:00:00', 'datatype': 'AWND', 'station': 'GHCND:USW00022516', 'attributes': ',,W,', 'value': 9.8}, {'date': '2013-04-20T00:00:00', 'datatype': 'AWND', 'station': 'GHCND:USW00022516', 'attributes': ',,W,', 'value': 6.3}, {'date': '2013-04-21T00:00:00', 'datatype': 'AWND', 'station': 'GHCND:USW00022516', 'attributes': ',,W,', 'value': 5.6}, {'date': '2013-04-22T00:00:00', 'datatype': 'AWND', 'station': 'GHCND:USW00022516', 'attributes': ',,W,', 'value': 7.8}, {'date': '2013-04-23T00:00:00', 'datatype': 'AWND', 'station': 'GHCND:USW00022516', 'attributes': ',,W,', 'value': 10.7}, {'date': '2013-04-24T00:00:00', 'datatype': 'AWND', 'station': 'GHCND:USW00022516', 'attributes': ',,W,', 'value': 10.5}, {'date': '2013-04-25T00:00:00', 'datatype': 'AWND', 'station': 'GHCND:USW00022516', 'attributes': ',,W,', 'value': 14.1}, {'date': '2013-04-26T00:00:00', 'datatype': 'AWND', 'station': 'GHCND:USW00022516', 'attributes': ',,W,', 'value': 14.1}, {'date': '2013-04-27T00:00:00', 'datatype': 'AWND', 'station': 'GHCND:USW00022516', 'attributes': ',,W,', 'value': 5.4}, {'date': '2013-04-28T00:00:00', 'datatype': 'AWND', 'station': 'GHCND:USW00022516', 'attributes': ',,W,', 'value': 5.4}, {'date': '2013-04-29T00:00:00', 'datatype': 'AWND', 'station': 'GHCND:USW00022516', 'attributes': ',,W,', 'value': 8.7}, {'date': '2013-04-30T00:00:00', 'datatype': 'AWND', 'station': 'GHCND:USW00022516', 'attributes': ',,W,', 'value': 6.5}, {'date': '2013-05-01T00:00:00', 'datatype': 'AWND', 'station': 'GHCND:USW00022516', 'attributes': ',,W,', 'value': 11.0}, {'date': '2013-05-02T00:00:00', 'datatype': 'AWND', 'station': 'GHCND:USW00022516', 'attributes': ',,W,', 'value': 6.5}, {'date': '2013-05-03T00:00:00', 'datatype': 'AWND', 'station': 'GHCND:USW00022516', 'attributes': ',,W,', 'value': 7.2}, {'date': '2013-05-04T00:00:00', 'datatype': 'AWND', 'station': 'GHCND:USW00022516', 'attributes': ',,W,', 'value': 6.0}, {'date': '2013-05-05T00:00:00', 'datatype': 'AWND', 'station': 'GHCND:USW00022516', 'attributes': ',,W,', 'value': 12.5}, {'date': '2013-05-06T00:00:00', 'datatype': 'AWND', 'station': 'GHCND:USW00022516', 'attributes': ',,W,', 'value': 7.4}, {'date': '2013-05-07T00:00:00', 'datatype': 'AWND', 'station': 'GHCND:USW00022516', 'attributes': ',,W,', 'value': 5.6}, {'date': '2013-05-08T00:00:00', 'datatype': 'AWND', 'station': 'GHCND:USW00022516', 'attributes': ',,W,', 'value': 5.4}, {'date': '2013-05-09T00:00:00', 'datatype': 'AWND', 'station': 'GHCND:USW00022516', 'attributes': ',,W,', 'value': 6.5}, {'date': '2013-05-10T00:00:00', 'datatype': 'AWND', 'station': 'GHCND:USW00022516', 'attributes': ',,W,', 'value': 8.7}, {'date': '2013-05-11T00:00:00', 'datatype': 'AWND', 'station': 'GHCND:USW00022516', 'attributes': ',,W,', 'value': 11.4}, {'date': '2013-05-12T00:00:00', 'datatype': 'AWND', 'station': 'GHCND:USW00022516', 'attributes': ',,W,', 'value': 17.4}, {'date': '2013-05-13T00:00:00', 'datatype': 'AWND', 'station': 'GHCND:USW00022516', 'attributes': ',,W,', 'value': 14.8}, {'date': '2013-05-14T00:00:00', 'datatype': 'AWND', 'station': 'GHCND:USW00022516', 'attributes': ',,W,', 'value': 18.1}, {'date': '2013-05-15T00:00:00', 'datatype': 'AWND', 'station': 'GHCND:USW00022516', 'attributes': ',,W,', 'value': 17.2}, {'date': '2013-05-16T00:00:00', 'datatype': 'AWND', 'station': 'GHCND:USW00022516', 'attributes': ',,W,', 'value': 17.7}, {'date': '2013-05-17T00:00:00', 'datatype': 'AWND', 'station': 'GHCND:USW00022516', 'attributes': ',,W,', 'value': 13.2}, {'date': '2013-05-18T00:00:00', 'datatype': 'AWND', 'station': 'GHCND:USW00022516', 'attributes': ',,W,', 'value': 9.2}, {'date': '2013-05-19T00:00:00', 'datatype': 'AWND', 'station': 'GHCND:USW00022516', 'attributes': ',,W,', 'value': 6.9}, {'date': '2013-05-20T00:00:00', 'datatype': 'AWND', 'station': 'GHCND:USW00022516', 'attributes': ',,W,', 'value': 6.5}, {'date': '2013-05-21T00:00:00', 'datatype': 'AWND', 'station': 'GHCND:USW00022516', 'attributes': ',,W,', 'value': 5.1}, {'date': '2013-05-22T00:00:00', 'datatype': 'AWND', 'station': 'GHCND:USW00022516', 'attributes': ',,W,', 'value': 6.5}, {'date': '2013-05-23T00:00:00', 'datatype': 'AWND', 'station': 'GHCND:USW00022516', 'attributes': ',,W,', 'value': 12.1}, {'date': '2013-05-24T00:00:00', 'datatype': 'AWND', 'station': 'GHCND:USW00022516', 'attributes': ',,W,', 'value': 15.9}, {'date': '2013-05-25T00:00:00', 'datatype': 'AWND', 'station': 'GHCND:USW00022516', 'attributes': ',,W,', 'value': 16.1}, {'date': '2013-05-26T00:00:00', 'datatype': 'AWND', 'station': 'GHCND:USW00022516', 'attributes': ',,W,', 'value': 17.7}, {'date': '2013-05-27T00:00:00', 'datatype': 'AWND', 'station': 'GHCND:USW00022516', 'attributes': ',,W,', 'value': 13.0}, {'date': '2013-05-28T00:00:00', 'datatype': 'AWND', 'station': 'GHCND:USW00022516', 'attributes': ',,W,', 'value': 7.6}, {'date': '2013-05-29T00:00:00', 'datatype': 'AWND', 'station': 'GHCND:USW00022516', 'attributes': ',,W,', 'value': 9.2}, {'date': '2013-05-30T00:00:00', 'datatype': 'AWND', 'station': 'GHCND:USW00022516', 'attributes': ',,W,', 'value': 11.0}, {'date': '2013-05-31T00:00:00', 'datatype': 'AWND', 'station': 'GHCND:USW00022516', 'attributes': ',,W,', 'value': 12.5}, {'date': '2013-06-01T00:00:00', 'datatype': 'AWND', 'station': 'GHCND:USW00022516', 'attributes': ',,W,', 'value': 15.0}, {'date': '2013-06-02T00:00:00', 'datatype': 'AWND', 'station': 'GHCND:USW00022516', 'attributes': ',,W,', 'value': 19.0}, {'date': '2013-06-03T00:00:00', 'datatype': 'AWND', 'station': 'GHCND:USW00022516', 'attributes': ',,W,', 'value': 19.5}, {'date': '2013-06-04T00:00:00', 'datatype': 'AWND', 'station': 'GHCND:USW00022516', 'attributes': ',,W,', 'value': 17.4}, {'date': '2013-06-05T00:00:00', 'datatype': 'AWND', 'station': 'GHCND:USW00022516', 'attributes': ',,W,', 'value': 17.9}, {'date': '2013-06-06T00:00:00', 'datatype': 'AWND', 'station': 'GHCND:USW00022516', 'attributes': ',,W,', 'value': 16.8}, {'date': '2013-06-07T00:00:00', 'datatype': 'AWND', 'station': 'GHCND:USW00022516', 'attributes': ',,W,', 'value': 16.1}, {'date': '2013-06-08T00:00:00', 'datatype': 'AWND', 'station': 'GHCND:USW00022516', 'attributes': ',,W,', 'value': 15.2}, {'date': '2013-06-09T00:00:00', 'datatype': 'AWND', 'station': 'GHCND:USW00022516', 'attributes': ',,W,', 'value': 14.8}, {'date': '2013-06-10T00:00:00', 'datatype': 'AWND', 'station': 'GHCND:USW00022516', 'attributes': ',,W,', 'value': 15.7}, {'date': '2013-06-11T00:00:00', 'datatype': 'AWND', 'station': 'GHCND:USW00022516', 'attributes': ',,W,', 'value': 14.3}, {'date': '2013-06-12T00:00:00', 'datatype': 'AWND', 'station': 'GHCND:USW00022516', 'attributes': ',,W,', 'value': 16.1}, {'date': '2013-06-13T00:00:00', 'datatype': 'AWND', 'station': 'GHCND:USW00022516', 'attributes': ',,W,', 'value': 20.1}, {'date': '2013-06-14T00:00:00', 'datatype': 'AWND', 'station': 'GHCND:USW00022516', 'attributes': ',,W,', 'value': 16.6}, {'date': '2013-06-15T00:00:00', 'datatype': 'AWND', 'station': 'GHCND:USW00022516', 'attributes': ',,W,', 'value': 16.8}, {'date': '2013-06-16T00:00:00', 'datatype': 'AWND', 'station': 'GHCND:USW00022516', 'attributes': ',,W,', 'value': 16.1}, {'date': '2013-06-17T00:00:00', 'datatype': 'AWND', 'station': 'GHCND:USW00022516', 'attributes': ',,W,', 'value': 16.8}, {'date': '2013-06-18T00:00:00', 'datatype': 'AWND', 'station': 'GHCND:USW00022516', 'attributes': ',,W,', 'value': 16.8}, {'date': '2013-06-19T00:00:00', 'datatype': 'AWND', 'station': 'GHCND:USW00022516', 'attributes': ',,W,', 'value': 13.6}, {'date': '2013-06-20T00:00:00', 'datatype': 'AWND', 'station': 'GHCND:USW00022516', 'attributes': ',,W,', 'value': 12.1}, {'date': '2013-06-21T00:00:00', 'datatype': 'AWND', 'station': 'GHCND:USW00022516', 'attributes': ',,W,', 'value': 15.2}, {'date': '2013-06-22T00:00:00', 'datatype': 'AWND', 'station': 'GHCND:USW00022516', 'attributes': ',,W,', 'value': 18.3}, {'date': '2013-06-23T00:00:00', 'datatype': 'AWND', 'station': 'GHCND:USW00022516', 'attributes': ',,W,', 'value': 18.8}, {'date': '2013-06-24T00:00:00', 'datatype': 'AWND', 'station': 'GHCND:USW00022516', 'attributes': ',,W,', 'value': 15.7}, {'date': '2013-06-25T00:00:00', 'datatype': 'AWND', 'station': 'GHCND:USW00022516', 'attributes': ',,W,', 'value': 14.1}, {'date': '2013-06-26T00:00:00', 'datatype': 'AWND', 'station': 'GHCND:USW00022516', 'attributes': ',,W,', 'value': 15.0}, {'date': '2013-06-27T00:00:00', 'datatype': 'AWND', 'station': 'GHCND:USW00022516', 'attributes': ',,W,', 'value': 15.2}, {'date': '2013-06-28T00:00:00', 'datatype': 'AWND', 'station': 'GHCND:USW00022516', 'attributes': ',,W,', 'value': 15.0}, {'date': '2013-06-29T00:00:00', 'datatype': 'AWND', 'station': 'GHCND:USW00022516', 'attributes': ',,W,', 'value': 13.9}, {'date': '2013-06-30T00:00:00', 'datatype': 'AWND', 'station': 'GHCND:USW00022516', 'attributes': ',,W,', 'value': 15.7}, {'date': '2013-07-01T00:00:00', 'datatype': 'AWND', 'station': 'GHCND:USW00022516', 'attributes': ',,W,', 'value': 15.0}, {'date': '2013-07-02T00:00:00', 'datatype': 'AWND', 'station': 'GHCND:USW00022516', 'attributes': ',,W,', 'value': 12.8}, {'date': '2013-07-03T00:00:00', 'datatype': 'AWND', 'station': 'GHCND:USW00022516', 'attributes': ',,W,', 'value': 13.2}, {'date': '2013-07-04T00:00:00', 'datatype': 'AWND', 'station': 'GHCND:USW00022516', 'attributes': ',,W,', 'value': 10.7}, {'date': '2013-07-05T00:00:00', 'datatype': 'AWND', 'station': 'GHCND:USW00022516', 'attributes': ',,W,', 'value': 8.1}, {'date': '2013-07-06T00:00:00', 'datatype': 'AWND', 'station': 'GHCND:USW00022516', 'attributes': ',,W,', 'value': 7.4}, {'date': '2013-07-07T00:00:00', 'datatype': 'AWND', 'station': 'GHCND:USW00022516', 'attributes': ',,W,', 'value': 11.0}, {'date': '2013-07-08T00:00:00', 'datatype': 'AWND', 'station': 'GHCND:USW00022516', 'attributes': ',,W,', 'value': 9.8}, {'date': '2013-07-09T00:00:00', 'datatype': 'AWND', 'station': 'GHCND:USW00022516', 'attributes': ',,W,', 'value': 18.8}, {'date': '2013-07-10T00:00:00', 'datatype': 'AWND', 'station': 'GHCND:USW00022516', 'attributes': ',,W,', 'value': 17.2}, {'date': '2013-07-11T00:00:00', 'datatype': 'AWND', 'station': 'GHCND:USW00022516', 'attributes': ',,W,', 'value': 18.3}, {'date': '2013-07-12T00:00:00', 'datatype': 'AWND', 'station': 'GHCND:USW00022516', 'attributes': ',,W,', 'value': 16.6}, {'date': '2013-07-13T00:00:00', 'datatype': 'AWND', 'station': 'GHCND:USW00022516', 'attributes': ',,W,', 'value': 15.0}, {'date': '2013-07-14T00:00:00', 'datatype': 'AWND', 'station': 'GHCND:USW00022516', 'attributes': ',,W,', 'value': 12.3}, {'date': '2013-07-15T00:00:00', 'datatype': 'AWND', 'station': 'GHCND:USW00022516', 'attributes': ',,W,', 'value': 10.3}, {'date': '2013-07-16T00:00:00', 'datatype': 'AWND', 'station': 'GHCND:USW00022516', 'attributes': ',,W,', 'value': 12.1}, {'date': '2013-07-17T00:00:00', 'datatype': 'AWND', 'station': 'GHCND:USW00022516', 'attributes': ',,W,', 'value': 16.1}, {'date': '2013-07-18T00:00:00', 'datatype': 'AWND', 'station': 'GHCND:USW00022516', 'attributes': ',,W,', 'value': 14.3}, {'date': '2013-07-19T00:00:00', 'datatype': 'AWND', 'station': 'GHCND:USW00022516', 'attributes': ',,W,', 'value': 12.3}, {'date': '2013-07-20T00:00:00', 'datatype': 'AWND', 'station': 'GHCND:USW00022516', 'attributes': ',,W,', 'value': 14.3}, {'date': '2013-07-21T00:00:00', 'datatype': 'AWND', 'station': 'GHCND:USW00022516', 'attributes': ',,W,', 'value': 16.1}, {'date': '2013-07-22T00:00:00', 'datatype': 'AWND', 'station': 'GHCND:USW00022516', 'attributes': ',,W,', 'value': 5.8}, {'date': '2013-07-23T00:00:00', 'datatype': 'AWND', 'station': 'GHCND:USW00022516', 'attributes': ',,W,', 'value': 7.4}, {'date': '2013-07-24T00:00:00', 'datatype': 'AWND', 'station': 'GHCND:USW00022516', 'attributes': ',,W,', 'value': 14.3}, {'date': '2013-07-25T00:00:00', 'datatype': 'AWND', 'station': 'GHCND:USW00022516', 'attributes': ',,W,', 'value': 14.1}, {'date': '2013-07-26T00:00:00', 'datatype': 'AWND', 'station': 'GHCND:USW00022516', 'attributes': ',,W,', 'value': 14.1}, {'date': '2013-07-27T00:00:00', 'datatype': 'AWND', 'station': 'GHCND:USW00022516', 'attributes': ',,W,', 'value': 16.1}, {'date': '2013-07-28T00:00:00', 'datatype': 'AWND', 'station': 'GHCND:USW00022516', 'attributes': ',,W,', 'value': 15.0}, {'date': '2013-07-29T00:00:00', 'datatype': 'AWND', 'station': 'GHCND:USW00022516', 'attributes': ',,W,', 'value': 14.5}, {'date': '2013-07-30T00:00:00', 'datatype': 'AWND', 'station': 'GHCND:USW00022516', 'attributes': ',,W,', 'value': 12.3}, {'date': '2013-07-31T00:00:00', 'datatype': 'AWND', 'station': 'GHCND:USW00022516', 'attributes': ',,W,', 'value': 17.2}, {'date': '2013-08-01T00:00:00', 'datatype': 'AWND', 'station': 'GHCND:USW00022516', 'attributes': ',,W,', 'value': 18.1}, {'date': '2013-08-02T00:00:00', 'datatype': 'AWND', 'station': 'GHCND:USW00022516', 'attributes': ',,W,', 'value': 15.7}, {'date': '2013-08-03T00:00:00', 'datatype': 'AWND', 'station': 'GHCND:USW00022516', 'attributes': ',,W,', 'value': 16.6}, {'date': '2013-08-04T00:00:00', 'datatype': 'AWND', 'station': 'GHCND:USW00022516', 'attributes': ',,W,', 'value': 15.9}, {'date': '2013-08-05T00:00:00', 'datatype': 'AWND', 'station': 'GHCND:USW00022516', 'attributes': ',,W,', 'value': 15.4}, {'date': '2013-08-06T00:00:00', 'datatype': 'AWND', 'station': 'GHCND:USW00022516', 'attributes': ',,W,', 'value': 14.3}, {'date': '2013-08-07T00:00:00', 'datatype': 'AWND', 'station': 'GHCND:USW00022516', 'attributes': ',,W,', 'value': 14.5}, {'date': '2013-08-08T00:00:00', 'datatype': 'AWND', 'station': 'GHCND:USW00022516', 'attributes': ',,W,', 'value': 12.3}, {'date': '2013-08-09T00:00:00', 'datatype': 'AWND', 'station': 'GHCND:USW00022516', 'attributes': ',,W,', 'value': 14.3}, {'date': '2013-08-10T00:00:00', 'datatype': 'AWND', 'station': 'GHCND:USW00022516', 'attributes': ',,W,', 'value': 15.4}, {'date': '2013-08-11T00:00:00', 'datatype': 'AWND', 'station': 'GHCND:USW00022516', 'attributes': ',,W,', 'value': 18.3}, {'date': '2013-08-12T00:00:00', 'datatype': 'AWND', 'station': 'GHCND:USW00022516', 'attributes': ',,W,', 'value': 18.6}, {'date': '2013-08-13T00:00:00', 'datatype': 'AWND', 'station': 'GHCND:USW00022516', 'attributes': ',,W,', 'value': 15.7}, {'date': '2013-08-14T00:00:00', 'datatype': 'AWND', 'station': 'GHCND:USW00022516', 'attributes': ',,W,', 'value': 16.3}, {'date': '2013-08-15T00:00:00', 'datatype': 'AWND', 'station': 'GHCND:USW00022516', 'attributes': ',,W,', 'value': 17.0}, {'date': '2013-08-16T00:00:00', 'datatype': 'AWND', 'station': 'GHCND:USW00022516', 'attributes': ',,W,', 'value': 17.9}, {'date': '2013-08-17T00:00:00', 'datatype': 'AWND', 'station': 'GHCND:USW00022516', 'attributes': ',,W,', 'value': 17.2}, {'date': '2013-08-18T00:00:00', 'datatype': 'AWND', 'station': 'GHCND:USW00022516', 'attributes': ',,W,', 'value': 13.9}, {'date': '2013-08-19T00:00:00', 'datatype': 'AWND', 'station': 'GHCND:USW00022516', 'attributes': ',,W,', 'value': 10.3}, {'date': '2013-08-20T00:00:00', 'datatype': 'AWND', 'station': 'GHCND:USW00022516', 'attributes': ',,W,', 'value': 7.2}, {'date': '2013-08-21T00:00:00', 'datatype': 'AWND', 'station': 'GHCND:USW00022516', 'attributes': ',,W,', 'value': 6.5}, {'date': '2013-08-22T00:00:00', 'datatype': 'AWND', 'station': 'GHCND:USW00022516', 'attributes': ',,W,', 'value': 9.2}, {'date': '2013-08-23T00:00:00', 'datatype': 'AWND', 'station': 'GHCND:USW00022516', 'attributes': ',,W,', 'value': 13.9}, {'date': '2013-08-24T00:00:00', 'datatype': 'AWND', 'station': 'GHCND:USW00022516', 'attributes': ',,W,', 'value': 13.2}, {'date': '2013-08-25T00:00:00', 'datatype': 'AWND', 'station': 'GHCND:USW00022516', 'attributes': ',,W,', 'value': 14.8}, {'date': '2013-08-26T00:00:00', 'datatype': 'AWND', 'station': 'GHCND:USW00022516', 'attributes': ',,W,', 'value': 16.3}, {'date': '2013-08-27T00:00:00', 'datatype': 'AWND', 'station': 'GHCND:USW00022516', 'attributes': ',,W,', 'value': 16.1}, {'date': '2013-08-28T00:00:00', 'datatype': 'AWND', 'station': 'GHCND:USW00022516', 'attributes': ',,W,', 'value': 9.2}, {'date': '2013-08-29T00:00:00', 'datatype': 'AWND', 'station': 'GHCND:USW00022516', 'attributes': ',,W,', 'value': 11.4}, {'date': '2013-08-30T00:00:00', 'datatype': 'AWND', 'station': 'GHCND:USW00022516', 'attributes': ',,W,', 'value': 10.5}, {'date': '2013-08-31T00:00:00', 'datatype': 'AWND', 'station': 'GHCND:USW00022516', 'attributes': ',,W,', 'value': 14.1}, {'date': '2013-09-01T00:00:00', 'datatype': 'AWND', 'station': 'GHCND:USW00022516', 'attributes': ',,W,', 'value': 17.2}, {'date': '2013-09-02T00:00:00', 'datatype': 'AWND', 'station': 'GHCND:USW00022516', 'attributes': ',,W,', 'value': 15.0}, {'date': '2013-09-03T00:00:00', 'datatype': 'AWND', 'station': 'GHCND:USW00022516', 'attributes': ',,W,', 'value': 12.3}, {'date': '2013-09-04T00:00:00', 'datatype': 'AWND', 'station': 'GHCND:USW00022516', 'attributes': ',,W,', 'value': 10.3}, {'date': '2013-09-05T00:00:00', 'datatype': 'AWND', 'station': 'GHCND:USW00022516', 'attributes': ',,W,', 'value': 7.8}, {'date': '2013-09-06T00:00:00', 'datatype': 'AWND', 'station': 'GHCND:USW00022516', 'attributes': ',,W,', 'value': 10.7}, {'date': '2013-09-07T00:00:00', 'datatype': 'AWND', 'station': 'GHCND:USW00022516', 'attributes': ',,W,', 'value': 14.3}, {'date': '2013-09-08T00:00:00', 'datatype': 'AWND', 'station': 'GHCND:USW00022516', 'attributes': ',,W,', 'value': 11.6}, {'date': '2013-09-09T00:00:00', 'datatype': 'AWND', 'station': 'GHCND:USW00022516', 'attributes': ',,W,', 'value': 14.8}, {'date': '2013-09-10T00:00:00', 'datatype': 'AWND', 'station': 'GHCND:USW00022516', 'attributes': ',,W,', 'value': 12.8}, {'date': '2013-09-11T00:00:00', 'datatype': 'AWND', 'station': 'GHCND:USW00022516', 'attributes': ',,W,', 'value': 13.6}, {'date': '2013-09-12T00:00:00', 'datatype': 'AWND', 'station': 'GHCND:USW00022516', 'attributes': ',,W,', 'value': 11.0}, {'date': '2013-09-13T00:00:00', 'datatype': 'AWND', 'station': 'GHCND:USW00022516', 'attributes': ',,W,', 'value': 15.4}, {'date': '2013-09-14T00:00:00', 'datatype': 'AWND', 'station': 'GHCND:USW00022516', 'attributes': ',,W,', 'value': 11.9}, {'date': '2013-09-15T00:00:00', 'datatype': 'AWND', 'station': 'GHCND:USW00022516', 'attributes': ',,W,', 'value': 13.4}, {'date': '2013-09-16T00:00:00', 'datatype': 'AWND', 'station': 'GHCND:USW00022516', 'attributes': ',,W,', 'value': 16.6}, {'date': '2013-09-17T00:00:00', 'datatype': 'AWND', 'station': 'GHCND:USW00022516', 'attributes': ',,W,', 'value': 14.1}, {'date': '2013-09-18T00:00:00', 'datatype': 'AWND', 'station': 'GHCND:USW00022516', 'attributes': ',,W,', 'value': 15.0}, {'date': '2013-09-19T00:00:00', 'datatype': 'AWND', 'station': 'GHCND:USW00022516', 'attributes': ',,W,', 'value': 14.5}, {'date': '2013-09-20T00:00:00', 'datatype': 'AWND', 'station': 'GHCND:USW00022516', 'attributes': ',,W,', 'value': 17.4}, {'date': '2013-09-21T00:00:00', 'datatype': 'AWND', 'station': 'GHCND:USW00022516', 'attributes': ',,W,', 'value': 15.7}, {'date': '2013-09-22T00:00:00', 'datatype': 'AWND', 'station': 'GHCND:USW00022516', 'attributes': ',,W,', 'value': 13.2}, {'date': '2013-09-23T00:00:00', 'datatype': 'AWND', 'station': 'GHCND:USW00022516', 'attributes': ',,W,', 'value': 13.4}, {'date': '2013-09-24T00:00:00', 'datatype': 'AWND', 'station': 'GHCND:USW00022516', 'attributes': ',,W,', 'value': 12.5}, {'date': '2013-09-25T00:00:00', 'datatype': 'AWND', 'station': 'GHCND:USW00022516', 'attributes': ',,W,', 'value': 14.3}, {'date': '2013-09-26T00:00:00', 'datatype': 'AWND', 'station': 'GHCND:USW00022516', 'attributes': ',,W,', 'value': 8.7}, {'date': '2013-09-27T00:00:00', 'datatype': 'AWND', 'station': 'GHCND:USW00022516', 'attributes': ',,W,', 'value': 10.5}, {'date': '2013-09-28T00:00:00', 'datatype': 'AWND', 'station': 'GHCND:USW00022516', 'attributes': ',,W,', 'value': 13.4}, {'date': '2013-09-29T00:00:00', 'datatype': 'AWND', 'station': 'GHCND:USW00022516', 'attributes': ',,W,', 'value': 13.6}, {'date': '2013-09-30T00:00:00', 'datatype': 'AWND', 'station': 'GHCND:USW00022516', 'attributes': ',,W,', 'value': 9.2}, {'date': '2013-10-01T00:00:00', 'datatype': 'AWND', 'station': 'GHCND:USW00022516', 'attributes': ',,W,', 'value': 10.1}, {'date': '2013-10-02T00:00:00', 'datatype': 'AWND', 'station': 'GHCND:USW00022516', 'attributes': ',,W,', 'value': 10.1}, {'date': '2013-10-03T00:00:00', 'datatype': 'AWND', 'station': 'GHCND:USW00022516', 'attributes': ',,W,', 'value': 9.2}, {'date': '2013-10-04T00:00:00', 'datatype': 'AWND', 'station': 'GHCND:USW00022516', 'attributes': ',,W,', 'value': 13.0}, {'date': '2013-10-05T00:00:00', 'datatype': 'AWND', 'station': 'GHCND:USW00022516', 'attributes': ',,W,', 'value': 14.8}, {'date': '2013-10-06T00:00:00', 'datatype': 'AWND', 'station': 'GHCND:USW00022516', 'attributes': ',,W,', 'value': 13.2}, {'date': '2013-10-07T00:00:00', 'datatype': 'AWND', 'station': 'GHCND:USW00022516', 'attributes': ',,W,', 'value': 11.9}, {'date': '2013-10-08T00:00:00', 'datatype': 'AWND', 'station': 'GHCND:USW00022516', 'attributes': ',,W,', 'value': 12.8}, {'date': '2013-10-09T00:00:00', 'datatype': 'AWND', 'station': 'GHCND:USW00022516', 'attributes': ',,W,', 'value': 13.6}, {'date': '2013-10-10T00:00:00', 'datatype': 'AWND', 'station': 'GHCND:USW00022516', 'attributes': ',,W,', 'value': 9.6}, {'date': '2013-10-11T00:00:00', 'datatype': 'AWND', 'station': 'GHCND:USW00022516', 'attributes': ',,W,', 'value': 4.9}, {'date': '2013-10-12T00:00:00', 'datatype': 'AWND', 'station': 'GHCND:USW00022516', 'attributes': ',,W,', 'value': 6.5}, {'date': '2013-10-13T00:00:00', 'datatype': 'AWND', 'station': 'GHCND:USW00022516', 'attributes': ',,W,', 'value': 7.4}, {'date': '2013-10-14T00:00:00', 'datatype': 'AWND', 'station': 'GHCND:USW00022516', 'attributes': ',,W,', 'value': 8.9}, {'date': '2013-10-15T00:00:00', 'datatype': 'AWND', 'station': 'GHCND:USW00022516', 'attributes': ',,W,', 'value': 10.3}, {'date': '2013-10-16T00:00:00', 'datatype': 'AWND', 'station': 'GHCND:USW00022516', 'attributes': ',,W,', 'value': 9.8}, {'date': '2013-10-17T00:00:00', 'datatype': 'AWND', 'station': 'GHCND:USW00022516', 'attributes': ',,W,', 'value': 4.3}, {'date': '2013-10-18T00:00:00', 'datatype': 'AWND', 'station': 'GHCND:USW00022516', 'attributes': ',,W,', 'value': 6.0}, {'date': '2013-10-19T00:00:00', 'datatype': 'AWND', 'station': 'GHCND:USW00022516', 'attributes': ',,W,', 'value': 6.0}, {'date': '2013-10-20T00:00:00', 'datatype': 'AWND', 'station': 'GHCND:USW00022516', 'attributes': ',,W,', 'value': 5.8}, {'date': '2013-10-21T00:00:00', 'datatype': 'AWND', 'station': 'GHCND:USW00022516', 'attributes': ',,W,', 'value': 6.3}, {'date': '2013-10-22T00:00:00', 'datatype': 'AWND', 'station': 'GHCND:USW00022516', 'attributes': ',,W,', 'value': 8.5}, {'date': '2013-10-23T00:00:00', 'datatype': 'AWND', 'station': 'GHCND:USW00022516', 'attributes': ',,W,', 'value': 10.5}, {'date': '2013-10-24T00:00:00', 'datatype': 'AWND', 'station': 'GHCND:USW00022516', 'attributes': ',,W,', 'value': 9.4}, {'date': '2013-10-25T00:00:00', 'datatype': 'AWND', 'station': 'GHCND:USW00022516', 'attributes': ',,W,', 'value': 7.4}, {'date': '2013-10-26T00:00:00', 'datatype': 'AWND', 'station': 'GHCND:USW00022516', 'attributes': ',,W,', 'value': 4.9}, {'date': '2013-10-27T00:00:00', 'datatype': 'AWND', 'station': 'GHCND:USW00022516', 'attributes': ',,W,', 'value': 7.2}, {'date': '2013-10-28T00:00:00', 'datatype': 'AWND', 'station': 'GHCND:USW00022516', 'attributes': ',,W,', 'value': 12.1}, {'date': '2013-10-29T00:00:00', 'datatype': 'AWND', 'station': 'GHCND:USW00022516', 'attributes': ',,W,', 'value': 11.0}, {'date': '2013-10-30T00:00:00', 'datatype': 'AWND', 'station': 'GHCND:USW00022516', 'attributes': ',,W,', 'value': 9.6}, {'date': '2013-10-31T00:00:00', 'datatype': 'AWND', 'station': 'GHCND:USW00022516', 'attributes': ',,W,', 'value': 11.6}, {'date': '2013-11-01T00:00:00', 'datatype': 'AWND', 'station': 'GHCND:USW00022516', 'attributes': ',,W,', 'value': 11.9}, {'date': '2013-11-02T00:00:00', 'datatype': 'AWND', 'station': 'GHCND:USW00022516', 'attributes': ',,W,', 'value': 13.4}, {'date': '2013-11-03T00:00:00', 'datatype': 'AWND', 'station': 'GHCND:USW00022516', 'attributes': ',,W,', 'value': 14.8}, {'date': '2013-11-04T00:00:00', 'datatype': 'AWND', 'station': 'GHCND:USW00022516', 'attributes': ',,W,', 'value': 13.0}, {'date': '2013-11-05T00:00:00', 'datatype': 'AWND', 'station': 'GHCND:USW00022516', 'attributes': ',,W,', 'value': 10.3}, {'date': '2013-11-06T00:00:00', 'datatype': 'AWND', 'station': 'GHCND:USW00022516', 'attributes': ',,W,', 'value': 8.3}, {'date': '2013-11-07T00:00:00', 'datatype': 'AWND', 'station': 'GHCND:USW00022516', 'attributes': ',,W,', 'value': 5.8}, {'date': '2013-11-08T00:00:00', 'datatype': 'AWND', 'station': 'GHCND:USW00022516', 'attributes': ',,W,', 'value': 7.8}, {'date': '2013-11-09T00:00:00', 'datatype': 'AWND', 'station': 'GHCND:USW00022516', 'attributes': ',,W,', 'value': 9.8}, {'date': '2013-11-10T00:00:00', 'datatype': 'AWND', 'station': 'GHCND:USW00022516', 'attributes': ',,W,', 'value': 14.3}, {'date': '2013-11-11T00:00:00', 'datatype': 'AWND', 'station': 'GHCND:USW00022516', 'attributes': ',,W,', 'value': 10.5}, {'date': '2013-11-12T00:00:00', 'datatype': 'AWND', 'station': 'GHCND:USW00022516', 'attributes': ',,W,', 'value': 5.8}, {'date': '2013-11-13T00:00:00', 'datatype': 'AWND', 'station': 'GHCND:USW00022516', 'attributes': ',,W,', 'value': 7.2}, {'date': '2013-11-14T00:00:00', 'datatype': 'AWND', 'station': 'GHCND:USW00022516', 'attributes': ',,W,', 'value': 5.8}, {'date': '2013-11-15T00:00:00', 'datatype': 'AWND', 'station': 'GHCND:USW00022516', 'attributes': ',,W,', 'value': 6.0}, {'date': '2013-11-16T00:00:00', 'datatype': 'AWND', 'station': 'GHCND:USW00022516', 'attributes': ',,W,', 'value': 9.4}, {'date': '2013-11-17T00:00:00', 'datatype': 'AWND', 'station': 'GHCND:USW00022516', 'attributes': ',,W,', 'value': 4.9}, {'date': '2013-11-18T00:00:00', 'datatype': 'AWND', 'station': 'GHCND:USW00022516', 'attributes': ',,W,', 'value': 5.4}, {'date': '2013-11-19T00:00:00', 'datatype': 'AWND', 'station': 'GHCND:USW00022516', 'attributes': ',,W,', 'value': 4.9}, {'date': '2013-11-20T00:00:00', 'datatype': 'AWND', 'station': 'GHCND:USW00022516', 'attributes': ',,W,', 'value': 3.8}, {'date': '2013-11-21T00:00:00', 'datatype': 'AWND', 'station': 'GHCND:USW00022516', 'attributes': ',,W,', 'value': 5.6}, {'date': '2013-11-22T00:00:00', 'datatype': 'AWND', 'station': 'GHCND:USW00022516', 'attributes': ',,W,', 'value': 6.9}, {'date': '2013-11-23T00:00:00', 'datatype': 'AWND', 'station': 'GHCND:USW00022516', 'attributes': ',,W,', 'value': 11.9}, {'date': '2013-11-24T00:00:00', 'datatype': 'AWND', 'station': 'GHCND:USW00022516', 'attributes': ',,W,', 'value': 9.2}, {'date': '2013-11-25T00:00:00', 'datatype': 'AWND', 'station': 'GHCND:USW00022516', 'attributes': ',,W,', 'value': 11.9}, {'date': '2013-11-26T00:00:00', 'datatype': 'AWND', 'station': 'GHCND:USW00022516', 'attributes': ',,W,', 'value': 14.1}, {'date': '2013-11-27T00:00:00', 'datatype': 'AWND', 'station': 'GHCND:USW00022516', 'attributes': ',,W,', 'value': 6.5}, {'date': '2013-11-28T00:00:00', 'datatype': 'AWND', 'station': 'GHCND:USW00022516', 'attributes': ',,W,', 'value': 5.4}, {'date': '2013-11-29T00:00:00', 'datatype': 'AWND', 'station': 'GHCND:USW00022516', 'attributes': ',,W,', 'value': 4.9}, {'date': '2013-11-30T00:00:00', 'datatype': 'AWND', 'station': 'GHCND:USW00022516', 'attributes': ',,W,', 'value': 7.6}, {'date': '2013-12-01T00:00:00', 'datatype': 'AWND', 'station': 'GHCND:USW00022516', 'attributes': ',,W,', 'value': 4.3}, {'date': '2013-12-02T00:00:00', 'datatype': 'AWND', 'station': 'GHCND:USW00022516', 'attributes': ',,W,', 'value': 3.8}, {'date': '2013-12-03T00:00:00', 'datatype': 'AWND', 'station': 'GHCND:USW00022516', 'attributes': ',,W,', 'value': 5.1}, {'date': '2013-12-04T00:00:00', 'datatype': 'AWND', 'station': 'GHCND:USW00022516', 'attributes': ',,W,', 'value': 6.7}, {'date': '2013-12-05T00:00:00', 'datatype': 'AWND', 'station': 'GHCND:USW00022516', 'attributes': ',,W,', 'value': 5.1}, {'date': '2013-12-06T00:00:00', 'datatype': 'AWND', 'station': 'GHCND:USW00022516', 'attributes': ',,W,', 'value': 9.6}, {'date': '2013-12-07T00:00:00', 'datatype': 'AWND', 'station': 'GHCND:USW00022516', 'attributes': ',,W,', 'value': 5.1}, {'date': '2013-12-08T00:00:00', 'datatype': 'AWND', 'station': 'GHCND:USW00022516', 'attributes': ',,W,', 'value': 6.0}, {'date': '2013-12-09T00:00:00', 'datatype': 'AWND', 'station': 'GHCND:USW00022516', 'attributes': ',,W,', 'value': 5.6}, {'date': '2013-12-10T00:00:00', 'datatype': 'AWND', 'station': 'GHCND:USW00022516', 'attributes': ',,W,', 'value': 17.4}, {'date': '2013-12-11T00:00:00', 'datatype': 'AWND', 'station': 'GHCND:USW00022516', 'attributes': ',,W,', 'value': 9.2}, {'date': '2013-12-12T00:00:00', 'datatype': 'AWND', 'station': 'GHCND:USW00022516', 'attributes': ',,W,', 'value': 7.4}, {'date': '2013-12-13T00:00:00', 'datatype': 'AWND', 'station': 'GHCND:USW00022516', 'attributes': ',,W,', 'value': 5.4}, {'date': '2013-12-14T00:00:00', 'datatype': 'AWND', 'station': 'GHCND:USW00022516', 'attributes': ',,W,', 'value': 4.9}, {'date': '2013-12-15T00:00:00', 'datatype': 'AWND', 'station': 'GHCND:USW00022516', 'attributes': ',,W,', 'value': 4.9}, {'date': '2013-12-16T00:00:00', 'datatype': 'AWND', 'station': 'GHCND:USW00022516', 'attributes': ',,W,', 'value': 6.7}, {'date': '2013-12-17T00:00:00', 'datatype': 'AWND', 'station': 'GHCND:USW00022516', 'attributes': ',,W,', 'value': 6.0}, {'date': '2013-12-18T00:00:00', 'datatype': 'AWND', 'station': 'GHCND:USW00022516', 'attributes': ',,W,', 'value': 6.7}, {'date': '2013-12-19T00:00:00', 'datatype': 'AWND', 'station': 'GHCND:USW00022516', 'attributes': ',,W,', 'value': 8.3}, {'date': '2013-12-20T00:00:00', 'datatype': 'AWND', 'station': 'GHCND:USW00022516', 'attributes': ',,W,', 'value': 6.0}, {'date': '2013-12-21T00:00:00', 'datatype': 'AWND', 'station': 'GHCND:USW00022516', 'attributes': ',,W,', 'value': 8.7}, {'date': '2013-12-22T00:00:00', 'datatype': 'AWND', 'station': 'GHCND:USW00022516', 'attributes': ',,W,', 'value': 6.9}, {'date': '2013-12-23T00:00:00', 'datatype': 'AWND', 'station': 'GHCND:USW00022516', 'attributes': ',,W,', 'value': 10.3}, {'date': '2013-12-24T00:00:00', 'datatype': 'AWND', 'station': 'GHCND:USW00022516', 'attributes': ',,W,', 'value': 13.9}, {'date': '2013-12-25T00:00:00', 'datatype': 'AWND', 'station': 'GHCND:USW00022516', 'attributes': ',,W,', 'value': 14.1}, {'date': '2013-12-26T00:00:00', 'datatype': 'AWND', 'station': 'GHCND:USW00022516', 'attributes': ',,W,', 'value': 12.1}, {'date': '2013-12-27T00:00:00', 'datatype': 'AWND', 'station': 'GHCND:USW00022516', 'attributes': ',,W,', 'value': 11.0}, {'date': '2013-12-28T00:00:00', 'datatype': 'AWND', 'station': 'GHCND:USW00022516', 'attributes': ',,W,', 'value': 10.1}, {'date': '2013-12-29T00:00:00', 'datatype': 'AWND', 'station': 'GHCND:USW00022516', 'attributes': ',,W,', 'value': 14.3}, {'date': '2013-12-30T00:00:00', 'datatype': 'AWND', 'station': 'GHCND:USW00022516', 'attributes': ',,W,', 'value': 8.7}, {'date': '2013-12-31T00:00:00', 'datatype': 'AWND', 'station': 'GHCND:USW00022516', 'attributes': ',,W,', 'value': 8.3}]\n"
     ]
    }
   ],
   "source": [
    "#Now we pretty print the dictionary.\n",
    "printplus(avg_OGG_Wind_2013_dict)"
   ]
  },
  {
   "cell_type": "markdown",
   "metadata": {},
   "source": [
    "Well...that wasn't very pretty...  :\\    , but again, we did that just because we wanted to and for no real reason. <br>\n",
    "Moving on....<br>\n",
    "<br>\n",
    "Let's save the first data set on Average Wind Speed (AWND) for Kahului Airport in Maui Hawaii for 2013 to a dataframe for better representation of the data into columns and rows."
   ]
  },
  {
   "cell_type": "code",
   "execution_count": 19,
   "metadata": {},
   "outputs": [],
   "source": [
    "#Import pandas and save AWND results data into a dataframe.\n",
    "import pandas as pd\n",
    "data = avg_OGG_Wind_2013_dict\n",
    "\n",
    "AWND_df = pd.DataFrame(data['results'])"
   ]
  },
  {
   "cell_type": "code",
   "execution_count": 20,
   "metadata": {},
   "outputs": [
    {
     "data": {
      "text/html": [
       "<div>\n",
       "<style scoped>\n",
       "    .dataframe tbody tr th:only-of-type {\n",
       "        vertical-align: middle;\n",
       "    }\n",
       "\n",
       "    .dataframe tbody tr th {\n",
       "        vertical-align: top;\n",
       "    }\n",
       "\n",
       "    .dataframe thead th {\n",
       "        text-align: right;\n",
       "    }\n",
       "</style>\n",
       "<table border=\"1\" class=\"dataframe\">\n",
       "  <thead>\n",
       "    <tr style=\"text-align: right;\">\n",
       "      <th></th>\n",
       "      <th>date</th>\n",
       "      <th>datatype</th>\n",
       "      <th>station</th>\n",
       "      <th>attributes</th>\n",
       "      <th>value</th>\n",
       "    </tr>\n",
       "  </thead>\n",
       "  <tbody>\n",
       "    <tr>\n",
       "      <th>0</th>\n",
       "      <td>2013-01-01T00:00:00</td>\n",
       "      <td>AWND</td>\n",
       "      <td>GHCND:USW00022516</td>\n",
       "      <td>,,X,</td>\n",
       "      <td>13.9</td>\n",
       "    </tr>\n",
       "    <tr>\n",
       "      <th>1</th>\n",
       "      <td>2013-01-02T00:00:00</td>\n",
       "      <td>AWND</td>\n",
       "      <td>GHCND:USW00022516</td>\n",
       "      <td>,,X,</td>\n",
       "      <td>15.9</td>\n",
       "    </tr>\n",
       "    <tr>\n",
       "      <th>2</th>\n",
       "      <td>2013-01-03T00:00:00</td>\n",
       "      <td>AWND</td>\n",
       "      <td>GHCND:USW00022516</td>\n",
       "      <td>,,X,</td>\n",
       "      <td>15.2</td>\n",
       "    </tr>\n",
       "    <tr>\n",
       "      <th>3</th>\n",
       "      <td>2013-01-04T00:00:00</td>\n",
       "      <td>AWND</td>\n",
       "      <td>GHCND:USW00022516</td>\n",
       "      <td>,,X,</td>\n",
       "      <td>19.5</td>\n",
       "    </tr>\n",
       "    <tr>\n",
       "      <th>4</th>\n",
       "      <td>2013-01-05T00:00:00</td>\n",
       "      <td>AWND</td>\n",
       "      <td>GHCND:USW00022516</td>\n",
       "      <td>,,X,</td>\n",
       "      <td>20.1</td>\n",
       "    </tr>\n",
       "  </tbody>\n",
       "</table>\n",
       "</div>"
      ],
      "text/plain": [
       "                  date datatype            station attributes  value\n",
       "0  2013-01-01T00:00:00     AWND  GHCND:USW00022516       ,,X,   13.9\n",
       "1  2013-01-02T00:00:00     AWND  GHCND:USW00022516       ,,X,   15.9\n",
       "2  2013-01-03T00:00:00     AWND  GHCND:USW00022516       ,,X,   15.2\n",
       "3  2013-01-04T00:00:00     AWND  GHCND:USW00022516       ,,X,   19.5\n",
       "4  2013-01-05T00:00:00     AWND  GHCND:USW00022516       ,,X,   20.1"
      ]
     },
     "execution_count": 20,
     "metadata": {},
     "output_type": "execute_result"
    }
   ],
   "source": [
    "#Look at head of dataframe\n",
    "AWND_df.head()"
   ]
  },
  {
   "cell_type": "code",
   "execution_count": 21,
   "metadata": {},
   "outputs": [
    {
     "data": {
      "text/html": [
       "<div>\n",
       "<style scoped>\n",
       "    .dataframe tbody tr th:only-of-type {\n",
       "        vertical-align: middle;\n",
       "    }\n",
       "\n",
       "    .dataframe tbody tr th {\n",
       "        vertical-align: top;\n",
       "    }\n",
       "\n",
       "    .dataframe thead th {\n",
       "        text-align: right;\n",
       "    }\n",
       "</style>\n",
       "<table border=\"1\" class=\"dataframe\">\n",
       "  <thead>\n",
       "    <tr style=\"text-align: right;\">\n",
       "      <th></th>\n",
       "      <th>date</th>\n",
       "      <th>datatype</th>\n",
       "      <th>station</th>\n",
       "      <th>attributes</th>\n",
       "      <th>value</th>\n",
       "    </tr>\n",
       "  </thead>\n",
       "  <tbody>\n",
       "    <tr>\n",
       "      <th>360</th>\n",
       "      <td>2013-12-27T00:00:00</td>\n",
       "      <td>AWND</td>\n",
       "      <td>GHCND:USW00022516</td>\n",
       "      <td>,,W,</td>\n",
       "      <td>11.0</td>\n",
       "    </tr>\n",
       "    <tr>\n",
       "      <th>361</th>\n",
       "      <td>2013-12-28T00:00:00</td>\n",
       "      <td>AWND</td>\n",
       "      <td>GHCND:USW00022516</td>\n",
       "      <td>,,W,</td>\n",
       "      <td>10.1</td>\n",
       "    </tr>\n",
       "    <tr>\n",
       "      <th>362</th>\n",
       "      <td>2013-12-29T00:00:00</td>\n",
       "      <td>AWND</td>\n",
       "      <td>GHCND:USW00022516</td>\n",
       "      <td>,,W,</td>\n",
       "      <td>14.3</td>\n",
       "    </tr>\n",
       "    <tr>\n",
       "      <th>363</th>\n",
       "      <td>2013-12-30T00:00:00</td>\n",
       "      <td>AWND</td>\n",
       "      <td>GHCND:USW00022516</td>\n",
       "      <td>,,W,</td>\n",
       "      <td>8.7</td>\n",
       "    </tr>\n",
       "    <tr>\n",
       "      <th>364</th>\n",
       "      <td>2013-12-31T00:00:00</td>\n",
       "      <td>AWND</td>\n",
       "      <td>GHCND:USW00022516</td>\n",
       "      <td>,,W,</td>\n",
       "      <td>8.3</td>\n",
       "    </tr>\n",
       "  </tbody>\n",
       "</table>\n",
       "</div>"
      ],
      "text/plain": [
       "                    date datatype            station attributes  value\n",
       "360  2013-12-27T00:00:00     AWND  GHCND:USW00022516       ,,W,   11.0\n",
       "361  2013-12-28T00:00:00     AWND  GHCND:USW00022516       ,,W,   10.1\n",
       "362  2013-12-29T00:00:00     AWND  GHCND:USW00022516       ,,W,   14.3\n",
       "363  2013-12-30T00:00:00     AWND  GHCND:USW00022516       ,,W,    8.7\n",
       "364  2013-12-31T00:00:00     AWND  GHCND:USW00022516       ,,W,    8.3"
      ]
     },
     "execution_count": 21,
     "metadata": {},
     "output_type": "execute_result"
    }
   ],
   "source": [
    "#Look at tail of dataframe\n",
    "AWND_df.tail()"
   ]
  },
  {
   "cell_type": "code",
   "execution_count": 22,
   "metadata": {},
   "outputs": [
    {
     "name": "stdout",
     "output_type": "stream",
     "text": [
      "<class 'pandas.core.frame.DataFrame'>\n",
      "RangeIndex: 365 entries, 0 to 364\n",
      "Data columns (total 5 columns):\n",
      "date          365 non-null object\n",
      "datatype      365 non-null object\n",
      "station       365 non-null object\n",
      "attributes    365 non-null object\n",
      "value         365 non-null float64\n",
      "dtypes: float64(1), object(4)\n",
      "memory usage: 14.4+ KB\n"
     ]
    }
   ],
   "source": [
    "#Look at dataframe info\n",
    "AWND_df.info()"
   ]
  },
  {
   "cell_type": "code",
   "execution_count": 23,
   "metadata": {},
   "outputs": [
    {
     "data": {
      "text/plain": [
       "value    11.447397\n",
       "dtype: float64"
      ]
     },
     "execution_count": 23,
     "metadata": {},
     "output_type": "execute_result"
    }
   ],
   "source": [
    "#Find mean or avereage wind speed for entire 2013 dataframe.\n",
    "AWND_df.mean()"
   ]
  },
  {
   "cell_type": "markdown",
   "metadata": {},
   "source": [
    "RMEMBER: The NOAA API will only allow you to pull one year of data at a time.<br>\n",
    "So, let's pull the remaing 2 years of data from 2014 and 2015 for Kahului Airport in Hawaii from the NOAA API."
   ]
  },
  {
   "cell_type": "code",
   "execution_count": 24,
   "metadata": {},
   "outputs": [
    {
     "data": {
      "text/plain": [
       "{'limit': '1000',\n",
       " 'datasetid': 'GHCND',\n",
       " 'stationid': 'GHCND:USW00022516',\n",
       " 'datatypeid': 'AWND',\n",
       " 'startdate': '2014-01-01',\n",
       " 'enddate': '2014-12-31',\n",
       " 'units': 'standard'}"
      ]
     },
     "execution_count": 24,
     "metadata": {},
     "output_type": "execute_result"
    }
   ],
   "source": [
    "#Get second set of data for 2014 and set parrameters\n",
    "data2 = {}\n",
    "data2 = {'limit':'1000', 'datasetid': network, 'stationid': station_id}\n",
    "\n",
    "# append additional parameters to data dictionary\n",
    "data2.update({'datatypeid': 'AWND'})\n",
    "data2.update({'startdate': '2014-01-01'})\n",
    "data2.update({'enddate': '2014-12-31'})\n",
    "data2.update({'units':'standard'})\n",
    "data2"
   ]
  },
  {
   "cell_type": "code",
   "execution_count": 25,
   "metadata": {},
   "outputs": [],
   "source": [
    "#Request year of data and make the request to get our year of data\n",
    "r = requests.get('https://www.ncdc.noaa.gov/cdo-web/api/v2/data',params = data2, headers = {'token':my_token})\n",
    "\n",
    "#load the api response as a json\n",
    "avg_OGG_Wind_2014_dict = json.loads(r.text)"
   ]
  },
  {
   "cell_type": "code",
   "execution_count": 26,
   "metadata": {},
   "outputs": [
    {
     "data": {
      "text/plain": [
       "[{'date': '2014-01-01T00:00:00',\n",
       "  'datatype': 'AWND',\n",
       "  'station': 'GHCND:USW00022516',\n",
       "  'attributes': ',,W,',\n",
       "  'value': 3.8},\n",
       " {'date': '2014-01-02T00:00:00',\n",
       "  'datatype': 'AWND',\n",
       "  'station': 'GHCND:USW00022516',\n",
       "  'attributes': ',,W,',\n",
       "  'value': 15.2},\n",
       " {'date': '2014-01-03T00:00:00',\n",
       "  'datatype': 'AWND',\n",
       "  'station': 'GHCND:USW00022516',\n",
       "  'attributes': ',,W,',\n",
       "  'value': 11.2},\n",
       " {'date': '2014-01-04T00:00:00',\n",
       "  'datatype': 'AWND',\n",
       "  'station': 'GHCND:USW00022516',\n",
       "  'attributes': ',,W,',\n",
       "  'value': 11.2},\n",
       " {'date': '2014-01-05T00:00:00',\n",
       "  'datatype': 'AWND',\n",
       "  'station': 'GHCND:USW00022516',\n",
       "  'attributes': ',,W,',\n",
       "  'value': 9.6},\n",
       " {'date': '2014-01-06T00:00:00',\n",
       "  'datatype': 'AWND',\n",
       "  'station': 'GHCND:USW00022516',\n",
       "  'attributes': ',,W,',\n",
       "  'value': 12.5},\n",
       " {'date': '2014-01-07T00:00:00',\n",
       "  'datatype': 'AWND',\n",
       "  'station': 'GHCND:USW00022516',\n",
       "  'attributes': ',,W,',\n",
       "  'value': 15.4},\n",
       " {'date': '2014-01-08T00:00:00',\n",
       "  'datatype': 'AWND',\n",
       "  'station': 'GHCND:USW00022516',\n",
       "  'attributes': ',,W,',\n",
       "  'value': 11.6},\n",
       " {'date': '2014-01-09T00:00:00',\n",
       "  'datatype': 'AWND',\n",
       "  'station': 'GHCND:USW00022516',\n",
       "  'attributes': ',,W,',\n",
       "  'value': 7.4},\n",
       " {'date': '2014-01-10T00:00:00',\n",
       "  'datatype': 'AWND',\n",
       "  'station': 'GHCND:USW00022516',\n",
       "  'attributes': ',,W,',\n",
       "  'value': 7.2}]"
      ]
     },
     "execution_count": 26,
     "metadata": {},
     "output_type": "execute_result"
    }
   ],
   "source": [
    "# look at the first record of our data\n",
    "avg_OGG_Wind_2014_dict['results'][:10]"
   ]
  },
  {
   "cell_type": "code",
   "execution_count": 27,
   "metadata": {},
   "outputs": [
    {
     "data": {
      "text/plain": [
       "365"
      ]
     },
     "execution_count": 27,
     "metadata": {},
     "output_type": "execute_result"
    }
   ],
   "source": [
    "# Verify there is a record for each day as there are 365 days in a year\n",
    "len(avg_OGG_Wind_2014_dict['results'])"
   ]
  },
  {
   "cell_type": "code",
   "execution_count": 28,
   "metadata": {},
   "outputs": [
    {
     "name": "stdout",
     "output_type": "stream",
     "text": [
      "{'date': '2014-01-01T00:00:00', 'datatype': 'AWND', 'station': 'GHCND:USW00022516', 'attributes': ',,W,', 'value': 3.8}\n",
      "{'date': '2014-12-31T00:00:00', 'datatype': 'AWND', 'station': 'GHCND:USW00022516', 'attributes': ',,W,', 'value': 8.3}\n"
     ]
    }
   ],
   "source": [
    "# look at the first and last day\n",
    "print(avg_OGG_Wind_2014_dict['results'][0])\n",
    "print(avg_OGG_Wind_2014_dict['results'][364])"
   ]
  },
  {
   "cell_type": "markdown",
   "metadata": {},
   "source": [
    "Now, let's get the remaining data for 2015 to meet our <u>three years</u> of data deliverables.<br>"
   ]
  },
  {
   "cell_type": "code",
   "execution_count": 29,
   "metadata": {},
   "outputs": [
    {
     "data": {
      "text/plain": [
       "{'limit': '1000',\n",
       " 'datasetid': 'GHCND',\n",
       " 'stationid': 'GHCND:USW00022516',\n",
       " 'datatypeid': 'AWND',\n",
       " 'startdate': '2015-01-01',\n",
       " 'enddate': '2015-12-31',\n",
       " 'units': 'standard'}"
      ]
     },
     "execution_count": 29,
     "metadata": {},
     "output_type": "execute_result"
    }
   ],
   "source": [
    "#Get data and set parrameters\n",
    "data3 = {}\n",
    "data3 = {'limit':'1000', 'datasetid': network, 'stationid': station_id}\n",
    "\n",
    "# append additional parameters to data dictionary\n",
    "data3.update({'datatypeid': 'AWND'})\n",
    "data3.update({'startdate': '2015-01-01'})\n",
    "data3.update({'enddate': '2015-12-31'})\n",
    "data3.update({'units':'standard'})\n",
    "data3"
   ]
  },
  {
   "cell_type": "code",
   "execution_count": 30,
   "metadata": {},
   "outputs": [],
   "source": [
    "#Request year of data and make the request to get our year of data\n",
    "r = requests.get('https://www.ncdc.noaa.gov/cdo-web/api/v2/data',params = data3, headers = {'token':my_token})\n",
    "\n",
    "#load the api response as a json\n",
    "avg_OGG_Wind_2015_dict = json.loads(r.text)"
   ]
  },
  {
   "cell_type": "code",
   "execution_count": 31,
   "metadata": {},
   "outputs": [
    {
     "data": {
      "text/plain": [
       "[{'date': '2015-01-01T00:00:00',\n",
       "  'datatype': 'AWND',\n",
       "  'station': 'GHCND:USW00022516',\n",
       "  'attributes': ',,W,',\n",
       "  'value': 7.4},\n",
       " {'date': '2015-01-02T00:00:00',\n",
       "  'datatype': 'AWND',\n",
       "  'station': 'GHCND:USW00022516',\n",
       "  'attributes': ',,W,',\n",
       "  'value': 16.6},\n",
       " {'date': '2015-01-03T00:00:00',\n",
       "  'datatype': 'AWND',\n",
       "  'station': 'GHCND:USW00022516',\n",
       "  'attributes': ',,W,',\n",
       "  'value': 11.0},\n",
       " {'date': '2015-01-04T00:00:00',\n",
       "  'datatype': 'AWND',\n",
       "  'station': 'GHCND:USW00022516',\n",
       "  'attributes': ',,W,',\n",
       "  'value': 7.6},\n",
       " {'date': '2015-01-05T00:00:00',\n",
       "  'datatype': 'AWND',\n",
       "  'station': 'GHCND:USW00022516',\n",
       "  'attributes': ',,W,',\n",
       "  'value': 6.5},\n",
       " {'date': '2015-01-06T00:00:00',\n",
       "  'datatype': 'AWND',\n",
       "  'station': 'GHCND:USW00022516',\n",
       "  'attributes': ',,W,',\n",
       "  'value': 13.9},\n",
       " {'date': '2015-01-07T00:00:00',\n",
       "  'datatype': 'AWND',\n",
       "  'station': 'GHCND:USW00022516',\n",
       "  'attributes': ',,W,',\n",
       "  'value': 12.3},\n",
       " {'date': '2015-01-08T00:00:00',\n",
       "  'datatype': 'AWND',\n",
       "  'station': 'GHCND:USW00022516',\n",
       "  'attributes': ',,W,',\n",
       "  'value': 7.2},\n",
       " {'date': '2015-01-09T00:00:00',\n",
       "  'datatype': 'AWND',\n",
       "  'station': 'GHCND:USW00022516',\n",
       "  'attributes': ',,W,',\n",
       "  'value': 5.6},\n",
       " {'date': '2015-01-10T00:00:00',\n",
       "  'datatype': 'AWND',\n",
       "  'station': 'GHCND:USW00022516',\n",
       "  'attributes': ',,W,',\n",
       "  'value': 7.4}]"
      ]
     },
     "execution_count": 31,
     "metadata": {},
     "output_type": "execute_result"
    }
   ],
   "source": [
    "# look at the first record of our data\n",
    "avg_OGG_Wind_2015_dict['results'][:10]"
   ]
  },
  {
   "cell_type": "code",
   "execution_count": 32,
   "metadata": {},
   "outputs": [
    {
     "data": {
      "text/plain": [
       "365"
      ]
     },
     "execution_count": 32,
     "metadata": {},
     "output_type": "execute_result"
    }
   ],
   "source": [
    "# Verify there is a record for each day as there are 365 days in a year\n",
    "len(avg_OGG_Wind_2015_dict['results'])"
   ]
  },
  {
   "cell_type": "code",
   "execution_count": 33,
   "metadata": {},
   "outputs": [
    {
     "name": "stdout",
     "output_type": "stream",
     "text": [
      "{'date': '2015-01-01T00:00:00', 'datatype': 'AWND', 'station': 'GHCND:USW00022516', 'attributes': ',,W,', 'value': 7.4}\n",
      "{'date': '2015-12-31T00:00:00', 'datatype': 'AWND', 'station': 'GHCND:USW00022516', 'attributes': ',,W,', 'value': 7.6}\n"
     ]
    }
   ],
   "source": [
    "# look at the first and last day\n",
    "print(avg_OGG_Wind_2015_dict['results'][0])\n",
    "print(avg_OGG_Wind_2015_dict['results'][364])"
   ]
  },
  {
   "cell_type": "markdown",
   "metadata": {},
   "source": [
    "Let's create a dataframe for the AWND 2014 data for Kahului Airport."
   ]
  },
  {
   "cell_type": "code",
   "execution_count": 34,
   "metadata": {},
   "outputs": [],
   "source": [
    "#Create dataframe of 2014 AWND results\n",
    "data2 = avg_OGG_Wind_2014_dict\n",
    "\n",
    "AWND_df2 = pd.DataFrame(data['results'])"
   ]
  },
  {
   "cell_type": "code",
   "execution_count": 35,
   "metadata": {},
   "outputs": [
    {
     "name": "stdout",
     "output_type": "stream",
     "text": [
      "<class 'pandas.core.frame.DataFrame'>\n",
      "RangeIndex: 365 entries, 0 to 364\n",
      "Data columns (total 5 columns):\n",
      "date          365 non-null object\n",
      "datatype      365 non-null object\n",
      "station       365 non-null object\n",
      "attributes    365 non-null object\n",
      "value         365 non-null float64\n",
      "dtypes: float64(1), object(4)\n",
      "memory usage: 14.4+ KB\n"
     ]
    }
   ],
   "source": [
    "#Look at 2014 AWND_df2 info\n",
    "AWND_df2.info()"
   ]
  },
  {
   "cell_type": "code",
   "execution_count": 36,
   "metadata": {},
   "outputs": [
    {
     "data": {
      "text/plain": [
       "value    11.447397\n",
       "dtype: float64"
      ]
     },
     "execution_count": 36,
     "metadata": {},
     "output_type": "execute_result"
    }
   ],
   "source": [
    "#Find mean or avereage wind speed for entire 2014 dataframe.\n",
    "AWND_df2.mean()"
   ]
  },
  {
   "cell_type": "markdown",
   "metadata": {},
   "source": [
    "Now we will create a data frame for the AWND 2015 data for Kahului Airport."
   ]
  },
  {
   "cell_type": "code",
   "execution_count": 37,
   "metadata": {},
   "outputs": [],
   "source": [
    "#Create dataframe of 2015 AWND results\n",
    "data3 = avg_OGG_Wind_2015_dict\n",
    "\n",
    "AWND_df3 = pd.DataFrame(data['results'])"
   ]
  },
  {
   "cell_type": "code",
   "execution_count": 38,
   "metadata": {},
   "outputs": [
    {
     "name": "stdout",
     "output_type": "stream",
     "text": [
      "<class 'pandas.core.frame.DataFrame'>\n",
      "RangeIndex: 365 entries, 0 to 364\n",
      "Data columns (total 5 columns):\n",
      "date          365 non-null object\n",
      "datatype      365 non-null object\n",
      "station       365 non-null object\n",
      "attributes    365 non-null object\n",
      "value         365 non-null float64\n",
      "dtypes: float64(1), object(4)\n",
      "memory usage: 14.4+ KB\n"
     ]
    }
   ],
   "source": [
    "#Look at 2015 AWND_df3 info\n",
    "AWND_df3.info()"
   ]
  },
  {
   "cell_type": "code",
   "execution_count": 39,
   "metadata": {},
   "outputs": [
    {
     "data": {
      "text/plain": [
       "value    11.447397\n",
       "dtype: float64"
      ]
     },
     "execution_count": 39,
     "metadata": {},
     "output_type": "execute_result"
    }
   ],
   "source": [
    "#Find mean or avereage wind speed for entire 2015 dataframe.\n",
    "AWND_df3.mean()"
   ]
  },
  {
   "cell_type": "markdown",
   "metadata": {},
   "source": [
    "Now we will append the AWND 2014 data frame 2 and AWND 2015 data frame 3 into the first AWND_df 2013 into a final AWND dataframe with all three years of data."
   ]
  },
  {
   "cell_type": "code",
   "execution_count": 40,
   "metadata": {},
   "outputs": [],
   "source": [
    "#Append dataframe 2 (2014) with original dataframe (2013)\n",
    "AWND2_df = AWND_df.append(AWND_df2, ignore_index=True)"
   ]
  },
  {
   "cell_type": "code",
   "execution_count": 41,
   "metadata": {},
   "outputs": [],
   "source": [
    "#Append dataframe 3 (2015) with new appended dataframe (2013 and 2014)\n",
    "allAWND_df = AWND2_df.append(AWND_df3, ignore_index=True)"
   ]
  },
  {
   "cell_type": "code",
   "execution_count": 42,
   "metadata": {},
   "outputs": [
    {
     "data": {
      "text/plain": [
       "1095"
      ]
     },
     "execution_count": 42,
     "metadata": {},
     "output_type": "execute_result"
    }
   ],
   "source": [
    "#Check the length of the dataframe (rows)\n",
    "len(allAWND_df)"
   ]
  },
  {
   "cell_type": "code",
   "execution_count": 43,
   "metadata": {},
   "outputs": [
    {
     "data": {
      "text/html": [
       "<div>\n",
       "<style scoped>\n",
       "    .dataframe tbody tr th:only-of-type {\n",
       "        vertical-align: middle;\n",
       "    }\n",
       "\n",
       "    .dataframe tbody tr th {\n",
       "        vertical-align: top;\n",
       "    }\n",
       "\n",
       "    .dataframe thead th {\n",
       "        text-align: right;\n",
       "    }\n",
       "</style>\n",
       "<table border=\"1\" class=\"dataframe\">\n",
       "  <thead>\n",
       "    <tr style=\"text-align: right;\">\n",
       "      <th></th>\n",
       "      <th>date</th>\n",
       "      <th>datatype</th>\n",
       "      <th>station</th>\n",
       "      <th>attributes</th>\n",
       "      <th>value</th>\n",
       "    </tr>\n",
       "  </thead>\n",
       "  <tbody>\n",
       "    <tr>\n",
       "      <th>0</th>\n",
       "      <td>2013-01-01T00:00:00</td>\n",
       "      <td>AWND</td>\n",
       "      <td>GHCND:USW00022516</td>\n",
       "      <td>,,X,</td>\n",
       "      <td>13.9</td>\n",
       "    </tr>\n",
       "    <tr>\n",
       "      <th>1</th>\n",
       "      <td>2013-01-02T00:00:00</td>\n",
       "      <td>AWND</td>\n",
       "      <td>GHCND:USW00022516</td>\n",
       "      <td>,,X,</td>\n",
       "      <td>15.9</td>\n",
       "    </tr>\n",
       "    <tr>\n",
       "      <th>2</th>\n",
       "      <td>2013-01-03T00:00:00</td>\n",
       "      <td>AWND</td>\n",
       "      <td>GHCND:USW00022516</td>\n",
       "      <td>,,X,</td>\n",
       "      <td>15.2</td>\n",
       "    </tr>\n",
       "    <tr>\n",
       "      <th>3</th>\n",
       "      <td>2013-01-04T00:00:00</td>\n",
       "      <td>AWND</td>\n",
       "      <td>GHCND:USW00022516</td>\n",
       "      <td>,,X,</td>\n",
       "      <td>19.5</td>\n",
       "    </tr>\n",
       "    <tr>\n",
       "      <th>4</th>\n",
       "      <td>2013-01-05T00:00:00</td>\n",
       "      <td>AWND</td>\n",
       "      <td>GHCND:USW00022516</td>\n",
       "      <td>,,X,</td>\n",
       "      <td>20.1</td>\n",
       "    </tr>\n",
       "  </tbody>\n",
       "</table>\n",
       "</div>"
      ],
      "text/plain": [
       "                  date datatype            station attributes  value\n",
       "0  2013-01-01T00:00:00     AWND  GHCND:USW00022516       ,,X,   13.9\n",
       "1  2013-01-02T00:00:00     AWND  GHCND:USW00022516       ,,X,   15.9\n",
       "2  2013-01-03T00:00:00     AWND  GHCND:USW00022516       ,,X,   15.2\n",
       "3  2013-01-04T00:00:00     AWND  GHCND:USW00022516       ,,X,   19.5\n",
       "4  2013-01-05T00:00:00     AWND  GHCND:USW00022516       ,,X,   20.1"
      ]
     },
     "execution_count": 43,
     "metadata": {},
     "output_type": "execute_result"
    }
   ],
   "source": [
    "#Look at complete dataframe head\n",
    "allAWND_df.head()"
   ]
  },
  {
   "cell_type": "code",
   "execution_count": 44,
   "metadata": {},
   "outputs": [
    {
     "data": {
      "text/html": [
       "<div>\n",
       "<style scoped>\n",
       "    .dataframe tbody tr th:only-of-type {\n",
       "        vertical-align: middle;\n",
       "    }\n",
       "\n",
       "    .dataframe tbody tr th {\n",
       "        vertical-align: top;\n",
       "    }\n",
       "\n",
       "    .dataframe thead th {\n",
       "        text-align: right;\n",
       "    }\n",
       "</style>\n",
       "<table border=\"1\" class=\"dataframe\">\n",
       "  <thead>\n",
       "    <tr style=\"text-align: right;\">\n",
       "      <th></th>\n",
       "      <th>date</th>\n",
       "      <th>datatype</th>\n",
       "      <th>station</th>\n",
       "      <th>attributes</th>\n",
       "      <th>value</th>\n",
       "    </tr>\n",
       "  </thead>\n",
       "  <tbody>\n",
       "    <tr>\n",
       "      <th>1090</th>\n",
       "      <td>2013-12-27T00:00:00</td>\n",
       "      <td>AWND</td>\n",
       "      <td>GHCND:USW00022516</td>\n",
       "      <td>,,W,</td>\n",
       "      <td>11.0</td>\n",
       "    </tr>\n",
       "    <tr>\n",
       "      <th>1091</th>\n",
       "      <td>2013-12-28T00:00:00</td>\n",
       "      <td>AWND</td>\n",
       "      <td>GHCND:USW00022516</td>\n",
       "      <td>,,W,</td>\n",
       "      <td>10.1</td>\n",
       "    </tr>\n",
       "    <tr>\n",
       "      <th>1092</th>\n",
       "      <td>2013-12-29T00:00:00</td>\n",
       "      <td>AWND</td>\n",
       "      <td>GHCND:USW00022516</td>\n",
       "      <td>,,W,</td>\n",
       "      <td>14.3</td>\n",
       "    </tr>\n",
       "    <tr>\n",
       "      <th>1093</th>\n",
       "      <td>2013-12-30T00:00:00</td>\n",
       "      <td>AWND</td>\n",
       "      <td>GHCND:USW00022516</td>\n",
       "      <td>,,W,</td>\n",
       "      <td>8.7</td>\n",
       "    </tr>\n",
       "    <tr>\n",
       "      <th>1094</th>\n",
       "      <td>2013-12-31T00:00:00</td>\n",
       "      <td>AWND</td>\n",
       "      <td>GHCND:USW00022516</td>\n",
       "      <td>,,W,</td>\n",
       "      <td>8.3</td>\n",
       "    </tr>\n",
       "  </tbody>\n",
       "</table>\n",
       "</div>"
      ],
      "text/plain": [
       "                     date datatype            station attributes  value\n",
       "1090  2013-12-27T00:00:00     AWND  GHCND:USW00022516       ,,W,   11.0\n",
       "1091  2013-12-28T00:00:00     AWND  GHCND:USW00022516       ,,W,   10.1\n",
       "1092  2013-12-29T00:00:00     AWND  GHCND:USW00022516       ,,W,   14.3\n",
       "1093  2013-12-30T00:00:00     AWND  GHCND:USW00022516       ,,W,    8.7\n",
       "1094  2013-12-31T00:00:00     AWND  GHCND:USW00022516       ,,W,    8.3"
      ]
     },
     "execution_count": 44,
     "metadata": {},
     "output_type": "execute_result"
    }
   ],
   "source": [
    "#Look at complete dataframe tail\n",
    "allAWND_df.tail()"
   ]
  },
  {
   "cell_type": "code",
   "execution_count": 45,
   "metadata": {},
   "outputs": [
    {
     "name": "stdout",
     "output_type": "stream",
     "text": [
      "<class 'pandas.core.frame.DataFrame'>\n",
      "RangeIndex: 1095 entries, 0 to 1094\n",
      "Data columns (total 5 columns):\n",
      "date          1095 non-null object\n",
      "datatype      1095 non-null object\n",
      "station       1095 non-null object\n",
      "attributes    1095 non-null object\n",
      "value         1095 non-null float64\n",
      "dtypes: float64(1), object(4)\n",
      "memory usage: 42.9+ KB\n"
     ]
    }
   ],
   "source": [
    "#Look at complete dataframe info\n",
    "allAWND_df.info()"
   ]
  },
  {
   "cell_type": "code",
   "execution_count": 46,
   "metadata": {},
   "outputs": [
    {
     "data": {
      "text/plain": [
       "value    11.447397\n",
       "dtype: float64"
      ]
     },
     "execution_count": 46,
     "metadata": {},
     "output_type": "execute_result"
    }
   ],
   "source": [
    "#Now look at the mean/avereage of the value for the complete dataframe.\n",
    "allAWND_df.mean()"
   ]
  },
  {
   "cell_type": "markdown",
   "metadata": {},
   "source": [
    "Interesting...the mean Average Wind Speed (AWND) for 2013, 2014, and 2015 was the same for each dataframe year and for the completed dataframe with all three years.... <br>\n",
    "Guess the average wind speed in Kahului, Maui, Hawaii doesn't change much from year to year...."
   ]
  },
  {
   "cell_type": "code",
   "execution_count": 47,
   "metadata": {},
   "outputs": [
    {
     "name": "stdout",
     "output_type": "stream",
     "text": [
      "0\n"
     ]
    }
   ],
   "source": [
    "#Let's get a count on null values in the entire AWND data frame.\n",
    "import numpy as np\n",
    "print(np.count_nonzero(allAWND_df.isnull()))"
   ]
  },
  {
   "cell_type": "markdown",
   "metadata": {},
   "source": [
    "Okay, <b>great!</b> No Null values to deal with, so yay!<br> \n",
    "Let's correct the attributes column with the comma(s) (,,X,) in the data set output.<br>\n",
    "We will remove those unneeded commas from the data before we finalize the final three years of data."
   ]
  },
  {
   "cell_type": "code",
   "execution_count": 48,
   "metadata": {},
   "outputs": [
    {
     "data": {
      "text/html": [
       "<div>\n",
       "<style scoped>\n",
       "    .dataframe tbody tr th:only-of-type {\n",
       "        vertical-align: middle;\n",
       "    }\n",
       "\n",
       "    .dataframe tbody tr th {\n",
       "        vertical-align: top;\n",
       "    }\n",
       "\n",
       "    .dataframe thead th {\n",
       "        text-align: right;\n",
       "    }\n",
       "</style>\n",
       "<table border=\"1\" class=\"dataframe\">\n",
       "  <thead>\n",
       "    <tr style=\"text-align: right;\">\n",
       "      <th></th>\n",
       "      <th>date</th>\n",
       "      <th>datatype</th>\n",
       "      <th>station</th>\n",
       "      <th>attributes</th>\n",
       "      <th>value</th>\n",
       "    </tr>\n",
       "  </thead>\n",
       "  <tbody>\n",
       "    <tr>\n",
       "      <th>0</th>\n",
       "      <td>2013-01-01T00:00:00</td>\n",
       "      <td>AWND</td>\n",
       "      <td>GHCND:USW00022516</td>\n",
       "      <td>X</td>\n",
       "      <td>13.9</td>\n",
       "    </tr>\n",
       "    <tr>\n",
       "      <th>1</th>\n",
       "      <td>2013-01-02T00:00:00</td>\n",
       "      <td>AWND</td>\n",
       "      <td>GHCND:USW00022516</td>\n",
       "      <td>X</td>\n",
       "      <td>15.9</td>\n",
       "    </tr>\n",
       "    <tr>\n",
       "      <th>2</th>\n",
       "      <td>2013-01-03T00:00:00</td>\n",
       "      <td>AWND</td>\n",
       "      <td>GHCND:USW00022516</td>\n",
       "      <td>X</td>\n",
       "      <td>15.2</td>\n",
       "    </tr>\n",
       "    <tr>\n",
       "      <th>3</th>\n",
       "      <td>2013-01-04T00:00:00</td>\n",
       "      <td>AWND</td>\n",
       "      <td>GHCND:USW00022516</td>\n",
       "      <td>X</td>\n",
       "      <td>19.5</td>\n",
       "    </tr>\n",
       "    <tr>\n",
       "      <th>4</th>\n",
       "      <td>2013-01-05T00:00:00</td>\n",
       "      <td>AWND</td>\n",
       "      <td>GHCND:USW00022516</td>\n",
       "      <td>X</td>\n",
       "      <td>20.1</td>\n",
       "    </tr>\n",
       "  </tbody>\n",
       "</table>\n",
       "</div>"
      ],
      "text/plain": [
       "                  date datatype            station attributes  value\n",
       "0  2013-01-01T00:00:00     AWND  GHCND:USW00022516          X   13.9\n",
       "1  2013-01-02T00:00:00     AWND  GHCND:USW00022516          X   15.9\n",
       "2  2013-01-03T00:00:00     AWND  GHCND:USW00022516          X   15.2\n",
       "3  2013-01-04T00:00:00     AWND  GHCND:USW00022516          X   19.5\n",
       "4  2013-01-05T00:00:00     AWND  GHCND:USW00022516          X   20.1"
      ]
     },
     "execution_count": 48,
     "metadata": {},
     "output_type": "execute_result"
    }
   ],
   "source": [
    "#Remove comma from attibutes column of data\n",
    "allAWND_df['attributes'] = allAWND_df['attributes'].str.replace(',', '')\n",
    "allAWND_df.head()"
   ]
  },
  {
   "cell_type": "code",
   "execution_count": 49,
   "metadata": {},
   "outputs": [
    {
     "data": {
      "text/html": [
       "<div>\n",
       "<style scoped>\n",
       "    .dataframe tbody tr th:only-of-type {\n",
       "        vertical-align: middle;\n",
       "    }\n",
       "\n",
       "    .dataframe tbody tr th {\n",
       "        vertical-align: top;\n",
       "    }\n",
       "\n",
       "    .dataframe thead th {\n",
       "        text-align: right;\n",
       "    }\n",
       "</style>\n",
       "<table border=\"1\" class=\"dataframe\">\n",
       "  <thead>\n",
       "    <tr style=\"text-align: right;\">\n",
       "      <th></th>\n",
       "      <th>date</th>\n",
       "      <th>datatype</th>\n",
       "      <th>station</th>\n",
       "      <th>attributes</th>\n",
       "      <th>value</th>\n",
       "    </tr>\n",
       "  </thead>\n",
       "  <tbody>\n",
       "    <tr>\n",
       "      <th>1090</th>\n",
       "      <td>2013-12-27T00:00:00</td>\n",
       "      <td>AWND</td>\n",
       "      <td>GHCND:USW00022516</td>\n",
       "      <td>W</td>\n",
       "      <td>11.0</td>\n",
       "    </tr>\n",
       "    <tr>\n",
       "      <th>1091</th>\n",
       "      <td>2013-12-28T00:00:00</td>\n",
       "      <td>AWND</td>\n",
       "      <td>GHCND:USW00022516</td>\n",
       "      <td>W</td>\n",
       "      <td>10.1</td>\n",
       "    </tr>\n",
       "    <tr>\n",
       "      <th>1092</th>\n",
       "      <td>2013-12-29T00:00:00</td>\n",
       "      <td>AWND</td>\n",
       "      <td>GHCND:USW00022516</td>\n",
       "      <td>W</td>\n",
       "      <td>14.3</td>\n",
       "    </tr>\n",
       "    <tr>\n",
       "      <th>1093</th>\n",
       "      <td>2013-12-30T00:00:00</td>\n",
       "      <td>AWND</td>\n",
       "      <td>GHCND:USW00022516</td>\n",
       "      <td>W</td>\n",
       "      <td>8.7</td>\n",
       "    </tr>\n",
       "    <tr>\n",
       "      <th>1094</th>\n",
       "      <td>2013-12-31T00:00:00</td>\n",
       "      <td>AWND</td>\n",
       "      <td>GHCND:USW00022516</td>\n",
       "      <td>W</td>\n",
       "      <td>8.3</td>\n",
       "    </tr>\n",
       "  </tbody>\n",
       "</table>\n",
       "</div>"
      ],
      "text/plain": [
       "                     date datatype            station attributes  value\n",
       "1090  2013-12-27T00:00:00     AWND  GHCND:USW00022516          W   11.0\n",
       "1091  2013-12-28T00:00:00     AWND  GHCND:USW00022516          W   10.1\n",
       "1092  2013-12-29T00:00:00     AWND  GHCND:USW00022516          W   14.3\n",
       "1093  2013-12-30T00:00:00     AWND  GHCND:USW00022516          W    8.7\n",
       "1094  2013-12-31T00:00:00     AWND  GHCND:USW00022516          W    8.3"
      ]
     },
     "execution_count": 49,
     "metadata": {},
     "output_type": "execute_result"
    }
   ],
   "source": [
    "#Look at the data frame tail again to confirm the attributes column.\n",
    "allAWND_df.tail()"
   ]
  },
  {
   "cell_type": "code",
   "execution_count": 50,
   "metadata": {},
   "outputs": [],
   "source": [
    "#Let's look at a pandas summary of the AWND data frame\n",
    "from pandas_summary import DataFrameSummary"
   ]
  },
  {
   "cell_type": "code",
   "execution_count": 51,
   "metadata": {},
   "outputs": [],
   "source": [
    "#Create a dfs variable ro output the pandas_summary data\n",
    "AWND_dfs = DataFrameSummary(allAWND_df)"
   ]
  },
  {
   "cell_type": "code",
   "execution_count": 52,
   "metadata": {},
   "outputs": [
    {
     "data": {
      "text/html": [
       "<div>\n",
       "<style scoped>\n",
       "    .dataframe tbody tr th:only-of-type {\n",
       "        vertical-align: middle;\n",
       "    }\n",
       "\n",
       "    .dataframe tbody tr th {\n",
       "        vertical-align: top;\n",
       "    }\n",
       "\n",
       "    .dataframe thead th {\n",
       "        text-align: right;\n",
       "    }\n",
       "</style>\n",
       "<table border=\"1\" class=\"dataframe\">\n",
       "  <thead>\n",
       "    <tr style=\"text-align: right;\">\n",
       "      <th></th>\n",
       "      <th>date</th>\n",
       "      <th>datatype</th>\n",
       "      <th>station</th>\n",
       "      <th>attributes</th>\n",
       "      <th>value</th>\n",
       "    </tr>\n",
       "  </thead>\n",
       "  <tbody>\n",
       "    <tr>\n",
       "      <th>counts</th>\n",
       "      <td>1095</td>\n",
       "      <td>1095</td>\n",
       "      <td>1095</td>\n",
       "      <td>1095</td>\n",
       "      <td>1095</td>\n",
       "    </tr>\n",
       "    <tr>\n",
       "      <th>uniques</th>\n",
       "      <td>365</td>\n",
       "      <td>1</td>\n",
       "      <td>1</td>\n",
       "      <td>2</td>\n",
       "      <td>70</td>\n",
       "    </tr>\n",
       "    <tr>\n",
       "      <th>missing</th>\n",
       "      <td>0</td>\n",
       "      <td>0</td>\n",
       "      <td>0</td>\n",
       "      <td>0</td>\n",
       "      <td>0</td>\n",
       "    </tr>\n",
       "    <tr>\n",
       "      <th>missing_perc</th>\n",
       "      <td>0%</td>\n",
       "      <td>0%</td>\n",
       "      <td>0%</td>\n",
       "      <td>0%</td>\n",
       "      <td>0%</td>\n",
       "    </tr>\n",
       "    <tr>\n",
       "      <th>types</th>\n",
       "      <td>categorical</td>\n",
       "      <td>constant</td>\n",
       "      <td>constant</td>\n",
       "      <td>bool</td>\n",
       "      <td>numeric</td>\n",
       "    </tr>\n",
       "  </tbody>\n",
       "</table>\n",
       "</div>"
      ],
      "text/plain": [
       "                     date  datatype   station attributes    value\n",
       "counts               1095      1095      1095       1095     1095\n",
       "uniques               365         1         1          2       70\n",
       "missing                 0         0         0          0        0\n",
       "missing_perc           0%        0%        0%         0%       0%\n",
       "types         categorical  constant  constant       bool  numeric"
      ]
     },
     "execution_count": 52,
     "metadata": {},
     "output_type": "execute_result"
    }
   ],
   "source": [
    "#Look at column data values based on pandas_summary\n",
    "AWND_dfs.columns_stats"
   ]
  },
  {
   "cell_type": "code",
   "execution_count": 54,
   "metadata": {},
   "outputs": [],
   "source": [
    "#This saves the dataframe to a csv file.\n",
    "allAWND_df.to_csv('2013-2015_OGG_AWND.csv', index=False)"
   ]
  },
  {
   "cell_type": "markdown",
   "metadata": {},
   "source": [
    "<b>Conclusion and Final Thoughts</b><br>\n",
    "My initial intent was to look back at a time when my husband and I celebrated our ten year marriage anniversary in Maui. I recall we were there in 2012, but I wanted to see the weather in 2013 to 2015. More importantly because my first son was born in 2013 and my second son was born in 2015. Although the average temperature was not a data type that I could select. The percipitation data type to look at the rain variables durring 2013 to 2015 was also a data type that I wasn't allowed to select. Because the assigment and FTE dialogue of data already examined those data types.<br>\n",
    "<br>\n",
    "Therefore, I resulted in looking at the Average Wind Speed (AWND). I figured that with the varying values it could be interesting to look at the wind in Maui...<br>\n",
    "But as with all lovely island temperatures and almost always consistent weather patterns, Maui, Hawaii proved to have typical average wind speed for all three years of 2013 to 2015. So although it may have resulted to no differeing patterns of average wind speed, I learned a lot. I also found out some intereating ways dealing and working with API's availabel online. That could be of furhter interest in the future. Until next time, thanks for  your patience!"
   ]
  },
  {
   "cell_type": "code",
   "execution_count": null,
   "metadata": {},
   "outputs": [],
   "source": []
  }
 ],
 "metadata": {
  "kernelspec": {
   "display_name": "Python 3",
   "language": "python",
   "name": "python3"
  },
  "language_info": {
   "codemirror_mode": {
    "name": "ipython",
    "version": 3
   },
   "file_extension": ".py",
   "mimetype": "text/x-python",
   "name": "python",
   "nbconvert_exporter": "python",
   "pygments_lexer": "ipython3",
   "version": "3.7.4"
  }
 },
 "nbformat": 4,
 "nbformat_minor": 2
}
